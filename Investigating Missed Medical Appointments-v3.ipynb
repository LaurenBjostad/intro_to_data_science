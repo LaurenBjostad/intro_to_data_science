{
 "cells": [
  {
   "cell_type": "markdown",
   "metadata": {},
   "source": [
    "# <span style=\"color:CadetBlue\">Project: Investigating Missed Medical Appointments</span>\n",
    "Author: Lauren Bjostad\n",
    "## <span style=\"color:CadetBlue\"> Table of Contents</span>\n",
    "<ul>\n",
    "<li><a href=\"#intro\">Introduction</a></li>\n",
    "<li><a href=\"#wrangling\">Data Wrangling</a></li>\n",
    "<li><a href=\"#eda\">Exploratory Data Analysis</a></li>\n",
    "<li><a href=\"#conclusions\">Conclusions</a></li>\n",
    "</ul>"
   ]
  },
  {
   "cell_type": "markdown",
   "metadata": {},
   "source": [
    "<a id='intro'></a>\n",
    "##  <span style=\"color:CadetBlue\"> Introduction</span>\n",
    "\n",
    "\n",
    "> <span style=\"color:grey\">This report explores a dataset containing 110527 records of medical appointments in Brazil, focusing on if the patient attended. This report will be looking to answer two questions, whether one gender is more likely to miss an appointment than the other, and which day of the week is someone mostly likely to miss their appointment.</span>"
   ]
  },
  {
   "cell_type": "code",
   "execution_count": 1,
   "metadata": {
    "jupyter": {
     "outputs_hidden": true
    },
    "scrolled": false
   },
   "outputs": [
    {
     "data": {
      "text/html": [
       "<div>\n",
       "<style scoped>\n",
       "    .dataframe tbody tr th:only-of-type {\n",
       "        vertical-align: middle;\n",
       "    }\n",
       "\n",
       "    .dataframe tbody tr th {\n",
       "        vertical-align: top;\n",
       "    }\n",
       "\n",
       "    .dataframe thead th {\n",
       "        text-align: right;\n",
       "    }\n",
       "</style>\n",
       "<table border=\"1\" class=\"dataframe\">\n",
       "  <thead>\n",
       "    <tr style=\"text-align: right;\">\n",
       "      <th></th>\n",
       "      <th>PatientId</th>\n",
       "      <th>AppointmentID</th>\n",
       "      <th>Gender</th>\n",
       "      <th>ScheduledDay</th>\n",
       "      <th>AppointmentDay</th>\n",
       "      <th>Age</th>\n",
       "      <th>Neighbourhood</th>\n",
       "      <th>Scholarship</th>\n",
       "      <th>Hipertension</th>\n",
       "      <th>Diabetes</th>\n",
       "      <th>Alcoholism</th>\n",
       "      <th>Handcap</th>\n",
       "      <th>SMS_received</th>\n",
       "      <th>No-show</th>\n",
       "    </tr>\n",
       "  </thead>\n",
       "  <tbody>\n",
       "    <tr>\n",
       "      <th>0</th>\n",
       "      <td>2.987250e+13</td>\n",
       "      <td>5642903</td>\n",
       "      <td>F</td>\n",
       "      <td>2016-04-29T18:38:08Z</td>\n",
       "      <td>2016-04-29T00:00:00Z</td>\n",
       "      <td>62</td>\n",
       "      <td>JARDIM DA PENHA</td>\n",
       "      <td>0</td>\n",
       "      <td>1</td>\n",
       "      <td>0</td>\n",
       "      <td>0</td>\n",
       "      <td>0</td>\n",
       "      <td>0</td>\n",
       "      <td>No</td>\n",
       "    </tr>\n",
       "    <tr>\n",
       "      <th>1</th>\n",
       "      <td>5.589978e+14</td>\n",
       "      <td>5642503</td>\n",
       "      <td>M</td>\n",
       "      <td>2016-04-29T16:08:27Z</td>\n",
       "      <td>2016-04-29T00:00:00Z</td>\n",
       "      <td>56</td>\n",
       "      <td>JARDIM DA PENHA</td>\n",
       "      <td>0</td>\n",
       "      <td>0</td>\n",
       "      <td>0</td>\n",
       "      <td>0</td>\n",
       "      <td>0</td>\n",
       "      <td>0</td>\n",
       "      <td>No</td>\n",
       "    </tr>\n",
       "    <tr>\n",
       "      <th>2</th>\n",
       "      <td>4.262962e+12</td>\n",
       "      <td>5642549</td>\n",
       "      <td>F</td>\n",
       "      <td>2016-04-29T16:19:04Z</td>\n",
       "      <td>2016-04-29T00:00:00Z</td>\n",
       "      <td>62</td>\n",
       "      <td>MATA DA PRAIA</td>\n",
       "      <td>0</td>\n",
       "      <td>0</td>\n",
       "      <td>0</td>\n",
       "      <td>0</td>\n",
       "      <td>0</td>\n",
       "      <td>0</td>\n",
       "      <td>No</td>\n",
       "    </tr>\n",
       "    <tr>\n",
       "      <th>3</th>\n",
       "      <td>8.679512e+11</td>\n",
       "      <td>5642828</td>\n",
       "      <td>F</td>\n",
       "      <td>2016-04-29T17:29:31Z</td>\n",
       "      <td>2016-04-29T00:00:00Z</td>\n",
       "      <td>8</td>\n",
       "      <td>PONTAL DE CAMBURI</td>\n",
       "      <td>0</td>\n",
       "      <td>0</td>\n",
       "      <td>0</td>\n",
       "      <td>0</td>\n",
       "      <td>0</td>\n",
       "      <td>0</td>\n",
       "      <td>No</td>\n",
       "    </tr>\n",
       "    <tr>\n",
       "      <th>4</th>\n",
       "      <td>8.841186e+12</td>\n",
       "      <td>5642494</td>\n",
       "      <td>F</td>\n",
       "      <td>2016-04-29T16:07:23Z</td>\n",
       "      <td>2016-04-29T00:00:00Z</td>\n",
       "      <td>56</td>\n",
       "      <td>JARDIM DA PENHA</td>\n",
       "      <td>0</td>\n",
       "      <td>1</td>\n",
       "      <td>1</td>\n",
       "      <td>0</td>\n",
       "      <td>0</td>\n",
       "      <td>0</td>\n",
       "      <td>No</td>\n",
       "    </tr>\n",
       "  </tbody>\n",
       "</table>\n",
       "</div>"
      ],
      "text/plain": [
       "      PatientId  AppointmentID Gender          ScheduledDay  \\\n",
       "0  2.987250e+13        5642903      F  2016-04-29T18:38:08Z   \n",
       "1  5.589978e+14        5642503      M  2016-04-29T16:08:27Z   \n",
       "2  4.262962e+12        5642549      F  2016-04-29T16:19:04Z   \n",
       "3  8.679512e+11        5642828      F  2016-04-29T17:29:31Z   \n",
       "4  8.841186e+12        5642494      F  2016-04-29T16:07:23Z   \n",
       "\n",
       "         AppointmentDay  Age      Neighbourhood  Scholarship  Hipertension  \\\n",
       "0  2016-04-29T00:00:00Z   62    JARDIM DA PENHA            0             1   \n",
       "1  2016-04-29T00:00:00Z   56    JARDIM DA PENHA            0             0   \n",
       "2  2016-04-29T00:00:00Z   62      MATA DA PRAIA            0             0   \n",
       "3  2016-04-29T00:00:00Z    8  PONTAL DE CAMBURI            0             0   \n",
       "4  2016-04-29T00:00:00Z   56    JARDIM DA PENHA            0             1   \n",
       "\n",
       "   Diabetes  Alcoholism  Handcap  SMS_received No-show  \n",
       "0         0           0        0             0      No  \n",
       "1         0           0        0             0      No  \n",
       "2         0           0        0             0      No  \n",
       "3         0           0        0             0      No  \n",
       "4         1           0        0             0      No  "
      ]
     },
     "execution_count": 1,
     "metadata": {},
     "output_type": "execute_result"
    }
   ],
   "source": [
    "import pandas as pd\n",
    "import numpy as np\n",
    "import matplotlib.pyplot as plt\n",
    "%matplotlib inline\n",
    "df_nsa = pd.read_csv(r'~/Library/CloudStorage/OneDrive-WesternGovernorsUniversity/noshowappointments.csv')\n",
    "#df_nsa = pd.read_csv(r'C:\\Users\\Lauren\\OneDrive - Western Governors University\\noshowappointments.csv')\n",
    "df_nsa.head()"
   ]
  },
  {
   "cell_type": "markdown",
   "metadata": {},
   "source": [
    "> <span style=\"color:grey\">Now that the data is accessible, we will want to view how many records we have and the number of columns. For our dataset, we have 14 columns with 110,527 rows. </span>"
   ]
  },
  {
   "cell_type": "code",
   "execution_count": 2,
   "metadata": {
    "scrolled": false
   },
   "outputs": [
    {
     "name": "stdout",
     "output_type": "stream",
     "text": [
      "<class 'pandas.core.frame.DataFrame'>\n",
      "RangeIndex: 110527 entries, 0 to 110526\n",
      "Data columns (total 14 columns):\n",
      " #   Column          Non-Null Count   Dtype  \n",
      "---  ------          --------------   -----  \n",
      " 0   PatientId       110527 non-null  float64\n",
      " 1   AppointmentID   110527 non-null  int64  \n",
      " 2   Gender          110527 non-null  object \n",
      " 3   ScheduledDay    110527 non-null  object \n",
      " 4   AppointmentDay  110527 non-null  object \n",
      " 5   Age             110527 non-null  int64  \n",
      " 6   Neighbourhood   110527 non-null  object \n",
      " 7   Scholarship     110527 non-null  int64  \n",
      " 8   Hipertension    110527 non-null  int64  \n",
      " 9   Diabetes        110527 non-null  int64  \n",
      " 10  Alcoholism      110527 non-null  int64  \n",
      " 11  Handcap         110527 non-null  int64  \n",
      " 12  SMS_received    110527 non-null  int64  \n",
      " 13  No-show         110527 non-null  object \n",
      "dtypes: float64(1), int64(8), object(5)\n",
      "memory usage: 11.8+ MB\n"
     ]
    }
   ],
   "source": [
    "df_nsa.info()"
   ]
  },
  {
   "cell_type": "markdown",
   "metadata": {},
   "source": [
    "<a id='wrangling'></a>\n",
    "## <span style=\"color:CadetBlue\">Data Wrangling </span>\n",
    "\n",
    "\n",
    "### <span style=\"color:grey\">General Properties </span>"
   ]
  },
  {
   "cell_type": "markdown",
   "metadata": {},
   "source": [
    "> <span style=\"color:grey\"> As this is such a large dataset, we will narrow down the results so we are only working with the parts of the data to answer our two questions. We will make a new data frame for the PatientId, Gender, ScheduledDay, AppointmentDay, SMS_Received, and No-Show columns.</span>"
   ]
  },
  {
   "cell_type": "code",
   "execution_count": 3,
   "metadata": {
    "jupyter": {
     "outputs_hidden": true
    },
    "scrolled": false
   },
   "outputs": [
    {
     "data": {
      "text/html": [
       "<div>\n",
       "<style scoped>\n",
       "    .dataframe tbody tr th:only-of-type {\n",
       "        vertical-align: middle;\n",
       "    }\n",
       "\n",
       "    .dataframe tbody tr th {\n",
       "        vertical-align: top;\n",
       "    }\n",
       "\n",
       "    .dataframe thead th {\n",
       "        text-align: right;\n",
       "    }\n",
       "</style>\n",
       "<table border=\"1\" class=\"dataframe\">\n",
       "  <thead>\n",
       "    <tr style=\"text-align: right;\">\n",
       "      <th></th>\n",
       "      <th>PatientId</th>\n",
       "      <th>Gender</th>\n",
       "      <th>ScheduledDay</th>\n",
       "      <th>AppointmentDay</th>\n",
       "      <th>SMS_received</th>\n",
       "      <th>No-show</th>\n",
       "    </tr>\n",
       "  </thead>\n",
       "  <tbody>\n",
       "    <tr>\n",
       "      <th>0</th>\n",
       "      <td>2.987250e+13</td>\n",
       "      <td>F</td>\n",
       "      <td>2016-04-29T18:38:08Z</td>\n",
       "      <td>2016-04-29T00:00:00Z</td>\n",
       "      <td>0</td>\n",
       "      <td>No</td>\n",
       "    </tr>\n",
       "    <tr>\n",
       "      <th>1</th>\n",
       "      <td>5.589978e+14</td>\n",
       "      <td>M</td>\n",
       "      <td>2016-04-29T16:08:27Z</td>\n",
       "      <td>2016-04-29T00:00:00Z</td>\n",
       "      <td>0</td>\n",
       "      <td>No</td>\n",
       "    </tr>\n",
       "    <tr>\n",
       "      <th>2</th>\n",
       "      <td>4.262962e+12</td>\n",
       "      <td>F</td>\n",
       "      <td>2016-04-29T16:19:04Z</td>\n",
       "      <td>2016-04-29T00:00:00Z</td>\n",
       "      <td>0</td>\n",
       "      <td>No</td>\n",
       "    </tr>\n",
       "    <tr>\n",
       "      <th>3</th>\n",
       "      <td>8.679512e+11</td>\n",
       "      <td>F</td>\n",
       "      <td>2016-04-29T17:29:31Z</td>\n",
       "      <td>2016-04-29T00:00:00Z</td>\n",
       "      <td>0</td>\n",
       "      <td>No</td>\n",
       "    </tr>\n",
       "    <tr>\n",
       "      <th>4</th>\n",
       "      <td>8.841186e+12</td>\n",
       "      <td>F</td>\n",
       "      <td>2016-04-29T16:07:23Z</td>\n",
       "      <td>2016-04-29T00:00:00Z</td>\n",
       "      <td>0</td>\n",
       "      <td>No</td>\n",
       "    </tr>\n",
       "    <tr>\n",
       "      <th>...</th>\n",
       "      <td>...</td>\n",
       "      <td>...</td>\n",
       "      <td>...</td>\n",
       "      <td>...</td>\n",
       "      <td>...</td>\n",
       "      <td>...</td>\n",
       "    </tr>\n",
       "    <tr>\n",
       "      <th>110522</th>\n",
       "      <td>2.572134e+12</td>\n",
       "      <td>F</td>\n",
       "      <td>2016-05-03T09:15:35Z</td>\n",
       "      <td>2016-06-07T00:00:00Z</td>\n",
       "      <td>1</td>\n",
       "      <td>No</td>\n",
       "    </tr>\n",
       "    <tr>\n",
       "      <th>110523</th>\n",
       "      <td>3.596266e+12</td>\n",
       "      <td>F</td>\n",
       "      <td>2016-05-03T07:27:33Z</td>\n",
       "      <td>2016-06-07T00:00:00Z</td>\n",
       "      <td>1</td>\n",
       "      <td>No</td>\n",
       "    </tr>\n",
       "    <tr>\n",
       "      <th>110524</th>\n",
       "      <td>1.557663e+13</td>\n",
       "      <td>F</td>\n",
       "      <td>2016-04-27T16:03:52Z</td>\n",
       "      <td>2016-06-07T00:00:00Z</td>\n",
       "      <td>1</td>\n",
       "      <td>No</td>\n",
       "    </tr>\n",
       "    <tr>\n",
       "      <th>110525</th>\n",
       "      <td>9.213493e+13</td>\n",
       "      <td>F</td>\n",
       "      <td>2016-04-27T15:09:23Z</td>\n",
       "      <td>2016-06-07T00:00:00Z</td>\n",
       "      <td>1</td>\n",
       "      <td>No</td>\n",
       "    </tr>\n",
       "    <tr>\n",
       "      <th>110526</th>\n",
       "      <td>3.775115e+14</td>\n",
       "      <td>F</td>\n",
       "      <td>2016-04-27T13:30:56Z</td>\n",
       "      <td>2016-06-07T00:00:00Z</td>\n",
       "      <td>1</td>\n",
       "      <td>No</td>\n",
       "    </tr>\n",
       "  </tbody>\n",
       "</table>\n",
       "<p>110527 rows × 6 columns</p>\n",
       "</div>"
      ],
      "text/plain": [
       "           PatientId Gender          ScheduledDay        AppointmentDay  \\\n",
       "0       2.987250e+13      F  2016-04-29T18:38:08Z  2016-04-29T00:00:00Z   \n",
       "1       5.589978e+14      M  2016-04-29T16:08:27Z  2016-04-29T00:00:00Z   \n",
       "2       4.262962e+12      F  2016-04-29T16:19:04Z  2016-04-29T00:00:00Z   \n",
       "3       8.679512e+11      F  2016-04-29T17:29:31Z  2016-04-29T00:00:00Z   \n",
       "4       8.841186e+12      F  2016-04-29T16:07:23Z  2016-04-29T00:00:00Z   \n",
       "...              ...    ...                   ...                   ...   \n",
       "110522  2.572134e+12      F  2016-05-03T09:15:35Z  2016-06-07T00:00:00Z   \n",
       "110523  3.596266e+12      F  2016-05-03T07:27:33Z  2016-06-07T00:00:00Z   \n",
       "110524  1.557663e+13      F  2016-04-27T16:03:52Z  2016-06-07T00:00:00Z   \n",
       "110525  9.213493e+13      F  2016-04-27T15:09:23Z  2016-06-07T00:00:00Z   \n",
       "110526  3.775115e+14      F  2016-04-27T13:30:56Z  2016-06-07T00:00:00Z   \n",
       "\n",
       "        SMS_received No-show  \n",
       "0                  0      No  \n",
       "1                  0      No  \n",
       "2                  0      No  \n",
       "3                  0      No  \n",
       "4                  0      No  \n",
       "...              ...     ...  \n",
       "110522             1      No  \n",
       "110523             1      No  \n",
       "110524             1      No  \n",
       "110525             1      No  \n",
       "110526             1      No  \n",
       "\n",
       "[110527 rows x 6 columns]"
      ]
     },
     "execution_count": 3,
     "metadata": {},
     "output_type": "execute_result"
    }
   ],
   "source": [
    "df_nsa_filtered = df_nsa.filter(['PatientId', 'Gender', 'ScheduledDay', 'AppointmentDay', 'SMS_received', 'No-show'])\n",
    "df_nsa_filtered"
   ]
  },
  {
   "cell_type": "markdown",
   "metadata": {},
   "source": [
    "> <span style=\"color:grey\">Now that we have our new, smaller data frame, we will need to check the quality of the data it contains. We are looking to ensure that we are not missing any values, checking the data types for each record and ensuring all of the columns share the same naming convention. </span>"
   ]
  },
  {
   "cell_type": "code",
   "execution_count": 4,
   "metadata": {
    "scrolled": false
   },
   "outputs": [
    {
     "name": "stdout",
     "output_type": "stream",
     "text": [
      "<class 'pandas.core.frame.DataFrame'>\n",
      "RangeIndex: 110527 entries, 0 to 110526\n",
      "Data columns (total 6 columns):\n",
      " #   Column          Non-Null Count   Dtype  \n",
      "---  ------          --------------   -----  \n",
      " 0   PatientId       110527 non-null  float64\n",
      " 1   Gender          110527 non-null  object \n",
      " 2   ScheduledDay    110527 non-null  object \n",
      " 3   AppointmentDay  110527 non-null  object \n",
      " 4   SMS_received    110527 non-null  int64  \n",
      " 5   No-show         110527 non-null  object \n",
      "dtypes: float64(1), int64(1), object(4)\n",
      "memory usage: 5.1+ MB\n"
     ]
    }
   ],
   "source": [
    "df_nsa_filtered.info()"
   ]
  },
  {
   "cell_type": "markdown",
   "metadata": {},
   "source": [
    "\n",
    "\n",
    "\n",
    "\n",
    "\n",
    "\n",
    "### <span style=\"color:grey\">Data Cleaning</span>"
   ]
  },
  {
   "cell_type": "markdown",
   "metadata": {},
   "source": [
    "> <span style=\"color:grey\">After reviewing the list above, we will want to change the data types of the PatientID, ScheduledDay, and AppointmentDay columns and update the naming convention of the columns for SMS_Received and No-Show to match the rest data. This data set did not contain any missing values. </span>"
   ]
  },
  {
   "cell_type": "markdown",
   "metadata": {},
   "source": [
    "####  <span style=\"color:grey\">  Data Type Conversion</span>"
   ]
  },
  {
   "cell_type": "markdown",
   "metadata": {},
   "source": [
    "> <span style=\"color:grey\"> Currently, the data type for PatientID is a <em>Float</em>, meaning a number with a decimal. This data type allows for mathematical calculations to be conducted against that data. Since PatientID is qualitative(descriptive) information, it would contain no meaningful information if it were to be included in a mathematical or statistical analysis. A more appropriate data type for this record is a <em>String</em>. This data type will treat this piece of information like it is a word instead of a number.</span>"
   ]
  },
  {
   "cell_type": "code",
   "execution_count": 5,
   "metadata": {
    "jupyter": {
     "outputs_hidden": true
    },
    "scrolled": false
   },
   "outputs": [
    {
     "data": {
      "text/html": [
       "<div>\n",
       "<style scoped>\n",
       "    .dataframe tbody tr th:only-of-type {\n",
       "        vertical-align: middle;\n",
       "    }\n",
       "\n",
       "    .dataframe tbody tr th {\n",
       "        vertical-align: top;\n",
       "    }\n",
       "\n",
       "    .dataframe thead th {\n",
       "        text-align: right;\n",
       "    }\n",
       "</style>\n",
       "<table border=\"1\" class=\"dataframe\">\n",
       "  <thead>\n",
       "    <tr style=\"text-align: right;\">\n",
       "      <th></th>\n",
       "      <th>PatientId</th>\n",
       "      <th>Gender</th>\n",
       "      <th>ScheduledDay</th>\n",
       "      <th>AppointmentDay</th>\n",
       "      <th>SMS_received</th>\n",
       "      <th>No-show</th>\n",
       "    </tr>\n",
       "  </thead>\n",
       "  <tbody>\n",
       "    <tr>\n",
       "      <th>0</th>\n",
       "      <td>29872499824296</td>\n",
       "      <td>F</td>\n",
       "      <td>2016-04-29T18:38:08Z</td>\n",
       "      <td>2016-04-29T00:00:00Z</td>\n",
       "      <td>0</td>\n",
       "      <td>No</td>\n",
       "    </tr>\n",
       "    <tr>\n",
       "      <th>1</th>\n",
       "      <td>558997776694438</td>\n",
       "      <td>M</td>\n",
       "      <td>2016-04-29T16:08:27Z</td>\n",
       "      <td>2016-04-29T00:00:00Z</td>\n",
       "      <td>0</td>\n",
       "      <td>No</td>\n",
       "    </tr>\n",
       "    <tr>\n",
       "      <th>2</th>\n",
       "      <td>4262962299951</td>\n",
       "      <td>F</td>\n",
       "      <td>2016-04-29T16:19:04Z</td>\n",
       "      <td>2016-04-29T00:00:00Z</td>\n",
       "      <td>0</td>\n",
       "      <td>No</td>\n",
       "    </tr>\n",
       "    <tr>\n",
       "      <th>3</th>\n",
       "      <td>867951213174</td>\n",
       "      <td>F</td>\n",
       "      <td>2016-04-29T17:29:31Z</td>\n",
       "      <td>2016-04-29T00:00:00Z</td>\n",
       "      <td>0</td>\n",
       "      <td>No</td>\n",
       "    </tr>\n",
       "    <tr>\n",
       "      <th>4</th>\n",
       "      <td>8841186448183</td>\n",
       "      <td>F</td>\n",
       "      <td>2016-04-29T16:07:23Z</td>\n",
       "      <td>2016-04-29T00:00:00Z</td>\n",
       "      <td>0</td>\n",
       "      <td>No</td>\n",
       "    </tr>\n",
       "    <tr>\n",
       "      <th>...</th>\n",
       "      <td>...</td>\n",
       "      <td>...</td>\n",
       "      <td>...</td>\n",
       "      <td>...</td>\n",
       "      <td>...</td>\n",
       "      <td>...</td>\n",
       "    </tr>\n",
       "    <tr>\n",
       "      <th>110522</th>\n",
       "      <td>2572134369293</td>\n",
       "      <td>F</td>\n",
       "      <td>2016-05-03T09:15:35Z</td>\n",
       "      <td>2016-06-07T00:00:00Z</td>\n",
       "      <td>1</td>\n",
       "      <td>No</td>\n",
       "    </tr>\n",
       "    <tr>\n",
       "      <th>110523</th>\n",
       "      <td>3596266328735</td>\n",
       "      <td>F</td>\n",
       "      <td>2016-05-03T07:27:33Z</td>\n",
       "      <td>2016-06-07T00:00:00Z</td>\n",
       "      <td>1</td>\n",
       "      <td>No</td>\n",
       "    </tr>\n",
       "    <tr>\n",
       "      <th>110524</th>\n",
       "      <td>15576631729893</td>\n",
       "      <td>F</td>\n",
       "      <td>2016-04-27T16:03:52Z</td>\n",
       "      <td>2016-06-07T00:00:00Z</td>\n",
       "      <td>1</td>\n",
       "      <td>No</td>\n",
       "    </tr>\n",
       "    <tr>\n",
       "      <th>110525</th>\n",
       "      <td>92134931435557</td>\n",
       "      <td>F</td>\n",
       "      <td>2016-04-27T15:09:23Z</td>\n",
       "      <td>2016-06-07T00:00:00Z</td>\n",
       "      <td>1</td>\n",
       "      <td>No</td>\n",
       "    </tr>\n",
       "    <tr>\n",
       "      <th>110526</th>\n",
       "      <td>377511518121127</td>\n",
       "      <td>F</td>\n",
       "      <td>2016-04-27T13:30:56Z</td>\n",
       "      <td>2016-06-07T00:00:00Z</td>\n",
       "      <td>1</td>\n",
       "      <td>No</td>\n",
       "    </tr>\n",
       "  </tbody>\n",
       "</table>\n",
       "<p>110527 rows × 6 columns</p>\n",
       "</div>"
      ],
      "text/plain": [
       "              PatientId Gender          ScheduledDay        AppointmentDay  \\\n",
       "0        29872499824296      F  2016-04-29T18:38:08Z  2016-04-29T00:00:00Z   \n",
       "1       558997776694438      M  2016-04-29T16:08:27Z  2016-04-29T00:00:00Z   \n",
       "2         4262962299951      F  2016-04-29T16:19:04Z  2016-04-29T00:00:00Z   \n",
       "3          867951213174      F  2016-04-29T17:29:31Z  2016-04-29T00:00:00Z   \n",
       "4         8841186448183      F  2016-04-29T16:07:23Z  2016-04-29T00:00:00Z   \n",
       "...                 ...    ...                   ...                   ...   \n",
       "110522    2572134369293      F  2016-05-03T09:15:35Z  2016-06-07T00:00:00Z   \n",
       "110523    3596266328735      F  2016-05-03T07:27:33Z  2016-06-07T00:00:00Z   \n",
       "110524   15576631729893      F  2016-04-27T16:03:52Z  2016-06-07T00:00:00Z   \n",
       "110525   92134931435557      F  2016-04-27T15:09:23Z  2016-06-07T00:00:00Z   \n",
       "110526  377511518121127      F  2016-04-27T13:30:56Z  2016-06-07T00:00:00Z   \n",
       "\n",
       "        SMS_received No-show  \n",
       "0                  0      No  \n",
       "1                  0      No  \n",
       "2                  0      No  \n",
       "3                  0      No  \n",
       "4                  0      No  \n",
       "...              ...     ...  \n",
       "110522             1      No  \n",
       "110523             1      No  \n",
       "110524             1      No  \n",
       "110525             1      No  \n",
       "110526             1      No  \n",
       "\n",
       "[110527 rows x 6 columns]"
      ]
     },
     "execution_count": 5,
     "metadata": {},
     "output_type": "execute_result"
    }
   ],
   "source": [
    "df_nsa_filtered['PatientId'] = (df_nsa_filtered['PatientId'].astype(str)).str[:-2]\n",
    "df_nsa_filtered"
   ]
  },
  {
   "cell_type": "markdown",
   "metadata": {},
   "source": [
    "> <span style=\"color:grey\">Shortly, we will create new columns based on the numerical difference between when an appointment was scheduled and the scheduled date. ScheduledDay and AppointmentDay are listed as Strings, which we cannot use in a calculation. Before changing these columns to Date fields, we will first want to shorten the string to remove the time information. We are removing the time information because we only have that data for when the booking date and not the appointment date. Once this extra data is removed, we will convert the fields to the appropriate data types. </span>"
   ]
  },
  {
   "cell_type": "code",
   "execution_count": 6,
   "metadata": {
    "scrolled": false
   },
   "outputs": [
    {
     "data": {
      "text/html": [
       "<div>\n",
       "<style scoped>\n",
       "    .dataframe tbody tr th:only-of-type {\n",
       "        vertical-align: middle;\n",
       "    }\n",
       "\n",
       "    .dataframe tbody tr th {\n",
       "        vertical-align: top;\n",
       "    }\n",
       "\n",
       "    .dataframe thead th {\n",
       "        text-align: right;\n",
       "    }\n",
       "</style>\n",
       "<table border=\"1\" class=\"dataframe\">\n",
       "  <thead>\n",
       "    <tr style=\"text-align: right;\">\n",
       "      <th></th>\n",
       "      <th>PatientId</th>\n",
       "      <th>Gender</th>\n",
       "      <th>ScheduledDay</th>\n",
       "      <th>AppointmentDay</th>\n",
       "      <th>SMS_received</th>\n",
       "      <th>No-show</th>\n",
       "      <th>DayId</th>\n",
       "    </tr>\n",
       "  </thead>\n",
       "  <tbody>\n",
       "    <tr>\n",
       "      <th>0</th>\n",
       "      <td>29872499824296</td>\n",
       "      <td>F</td>\n",
       "      <td>2016-04-29</td>\n",
       "      <td>2016-04-29</td>\n",
       "      <td>0</td>\n",
       "      <td>No</td>\n",
       "      <td>4</td>\n",
       "    </tr>\n",
       "    <tr>\n",
       "      <th>1</th>\n",
       "      <td>558997776694438</td>\n",
       "      <td>M</td>\n",
       "      <td>2016-04-29</td>\n",
       "      <td>2016-04-29</td>\n",
       "      <td>0</td>\n",
       "      <td>No</td>\n",
       "      <td>4</td>\n",
       "    </tr>\n",
       "    <tr>\n",
       "      <th>2</th>\n",
       "      <td>4262962299951</td>\n",
       "      <td>F</td>\n",
       "      <td>2016-04-29</td>\n",
       "      <td>2016-04-29</td>\n",
       "      <td>0</td>\n",
       "      <td>No</td>\n",
       "      <td>4</td>\n",
       "    </tr>\n",
       "    <tr>\n",
       "      <th>3</th>\n",
       "      <td>867951213174</td>\n",
       "      <td>F</td>\n",
       "      <td>2016-04-29</td>\n",
       "      <td>2016-04-29</td>\n",
       "      <td>0</td>\n",
       "      <td>No</td>\n",
       "      <td>4</td>\n",
       "    </tr>\n",
       "    <tr>\n",
       "      <th>4</th>\n",
       "      <td>8841186448183</td>\n",
       "      <td>F</td>\n",
       "      <td>2016-04-29</td>\n",
       "      <td>2016-04-29</td>\n",
       "      <td>0</td>\n",
       "      <td>No</td>\n",
       "      <td>4</td>\n",
       "    </tr>\n",
       "    <tr>\n",
       "      <th>...</th>\n",
       "      <td>...</td>\n",
       "      <td>...</td>\n",
       "      <td>...</td>\n",
       "      <td>...</td>\n",
       "      <td>...</td>\n",
       "      <td>...</td>\n",
       "      <td>...</td>\n",
       "    </tr>\n",
       "    <tr>\n",
       "      <th>110522</th>\n",
       "      <td>2572134369293</td>\n",
       "      <td>F</td>\n",
       "      <td>2016-05-03</td>\n",
       "      <td>2016-06-07</td>\n",
       "      <td>1</td>\n",
       "      <td>No</td>\n",
       "      <td>1</td>\n",
       "    </tr>\n",
       "    <tr>\n",
       "      <th>110523</th>\n",
       "      <td>3596266328735</td>\n",
       "      <td>F</td>\n",
       "      <td>2016-05-03</td>\n",
       "      <td>2016-06-07</td>\n",
       "      <td>1</td>\n",
       "      <td>No</td>\n",
       "      <td>1</td>\n",
       "    </tr>\n",
       "    <tr>\n",
       "      <th>110524</th>\n",
       "      <td>15576631729893</td>\n",
       "      <td>F</td>\n",
       "      <td>2016-04-27</td>\n",
       "      <td>2016-06-07</td>\n",
       "      <td>1</td>\n",
       "      <td>No</td>\n",
       "      <td>1</td>\n",
       "    </tr>\n",
       "    <tr>\n",
       "      <th>110525</th>\n",
       "      <td>92134931435557</td>\n",
       "      <td>F</td>\n",
       "      <td>2016-04-27</td>\n",
       "      <td>2016-06-07</td>\n",
       "      <td>1</td>\n",
       "      <td>No</td>\n",
       "      <td>1</td>\n",
       "    </tr>\n",
       "    <tr>\n",
       "      <th>110526</th>\n",
       "      <td>377511518121127</td>\n",
       "      <td>F</td>\n",
       "      <td>2016-04-27</td>\n",
       "      <td>2016-06-07</td>\n",
       "      <td>1</td>\n",
       "      <td>No</td>\n",
       "      <td>1</td>\n",
       "    </tr>\n",
       "  </tbody>\n",
       "</table>\n",
       "<p>110527 rows × 7 columns</p>\n",
       "</div>"
      ],
      "text/plain": [
       "              PatientId Gender ScheduledDay AppointmentDay  SMS_received  \\\n",
       "0        29872499824296      F   2016-04-29     2016-04-29             0   \n",
       "1       558997776694438      M   2016-04-29     2016-04-29             0   \n",
       "2         4262962299951      F   2016-04-29     2016-04-29             0   \n",
       "3          867951213174      F   2016-04-29     2016-04-29             0   \n",
       "4         8841186448183      F   2016-04-29     2016-04-29             0   \n",
       "...                 ...    ...          ...            ...           ...   \n",
       "110522    2572134369293      F   2016-05-03     2016-06-07             1   \n",
       "110523    3596266328735      F   2016-05-03     2016-06-07             1   \n",
       "110524   15576631729893      F   2016-04-27     2016-06-07             1   \n",
       "110525   92134931435557      F   2016-04-27     2016-06-07             1   \n",
       "110526  377511518121127      F   2016-04-27     2016-06-07             1   \n",
       "\n",
       "       No-show  DayId  \n",
       "0           No      4  \n",
       "1           No      4  \n",
       "2           No      4  \n",
       "3           No      4  \n",
       "4           No      4  \n",
       "...        ...    ...  \n",
       "110522      No      1  \n",
       "110523      No      1  \n",
       "110524      No      1  \n",
       "110525      No      1  \n",
       "110526      No      1  \n",
       "\n",
       "[110527 rows x 7 columns]"
      ]
     },
     "execution_count": 6,
     "metadata": {},
     "output_type": "execute_result"
    }
   ],
   "source": [
    "df_nsa_filtered['ScheduledDay'] = pd.to_datetime(df_nsa_filtered['ScheduledDay'].str[:10], format= '%Y/%m/%d')\n",
    "df_nsa_filtered['AppointmentDay'] = pd.to_datetime(df_nsa_filtered['AppointmentDay'].str[:10], format= '%Y/%m/%d')\n",
    "df_nsa_filtered['DayId'] = df_nsa_filtered['AppointmentDay'].dt.weekday\n",
    "df_nsa_filtered"
   ]
  },
  {
   "cell_type": "markdown",
   "metadata": {},
   "source": [
    "***"
   ]
  },
  {
   "cell_type": "code",
   "execution_count": 7,
   "metadata": {
    "scrolled": false
   },
   "outputs": [
    {
     "name": "stdout",
     "output_type": "stream",
     "text": [
      "<class 'pandas.core.frame.DataFrame'>\n",
      "RangeIndex: 110527 entries, 0 to 110526\n",
      "Data columns (total 7 columns):\n",
      " #   Column          Non-Null Count   Dtype         \n",
      "---  ------          --------------   -----         \n",
      " 0   PatientId       110527 non-null  object        \n",
      " 1   Gender          110527 non-null  object        \n",
      " 2   ScheduledDay    110527 non-null  datetime64[ns]\n",
      " 3   AppointmentDay  110527 non-null  datetime64[ns]\n",
      " 4   SMS_received    110527 non-null  int64         \n",
      " 5   No-show         110527 non-null  object        \n",
      " 6   DayId           110527 non-null  int64         \n",
      "dtypes: datetime64[ns](2), int64(2), object(3)\n",
      "memory usage: 5.9+ MB\n"
     ]
    }
   ],
   "source": [
    "df_nsa_filtered.info()"
   ]
  },
  {
   "cell_type": "markdown",
   "metadata": {},
   "source": [
    "> <span style=\"color:grey\"> As shown above, we can see that all three fields have been updated to their correct data types.</span>"
   ]
  },
  {
   "cell_type": "markdown",
   "metadata": {},
   "source": [
    "####  <span style=\"color:grey\">Naming Convention Update </span>"
   ]
  },
  {
   "cell_type": "markdown",
   "metadata": {},
   "source": [
    "> <span style=\"color:grey\">For readiblity purposes, we will want to update columns SMS_received and No-show to remove all special characters and just be letters. </span>"
   ]
  },
  {
   "cell_type": "code",
   "execution_count": 8,
   "metadata": {
    "scrolled": true
   },
   "outputs": [
    {
     "data": {
      "text/html": [
       "<div>\n",
       "<style scoped>\n",
       "    .dataframe tbody tr th:only-of-type {\n",
       "        vertical-align: middle;\n",
       "    }\n",
       "\n",
       "    .dataframe tbody tr th {\n",
       "        vertical-align: top;\n",
       "    }\n",
       "\n",
       "    .dataframe thead th {\n",
       "        text-align: right;\n",
       "    }\n",
       "</style>\n",
       "<table border=\"1\" class=\"dataframe\">\n",
       "  <thead>\n",
       "    <tr style=\"text-align: right;\">\n",
       "      <th></th>\n",
       "      <th>PatientId</th>\n",
       "      <th>Gender</th>\n",
       "      <th>ScheduledDay</th>\n",
       "      <th>AppointmentDay</th>\n",
       "      <th>SmsReceived</th>\n",
       "      <th>NoShow</th>\n",
       "      <th>DayId</th>\n",
       "    </tr>\n",
       "  </thead>\n",
       "  <tbody>\n",
       "    <tr>\n",
       "      <th>0</th>\n",
       "      <td>29872499824296</td>\n",
       "      <td>F</td>\n",
       "      <td>2016-04-29</td>\n",
       "      <td>2016-04-29</td>\n",
       "      <td>0</td>\n",
       "      <td>No</td>\n",
       "      <td>4</td>\n",
       "    </tr>\n",
       "    <tr>\n",
       "      <th>1</th>\n",
       "      <td>558997776694438</td>\n",
       "      <td>M</td>\n",
       "      <td>2016-04-29</td>\n",
       "      <td>2016-04-29</td>\n",
       "      <td>0</td>\n",
       "      <td>No</td>\n",
       "      <td>4</td>\n",
       "    </tr>\n",
       "    <tr>\n",
       "      <th>2</th>\n",
       "      <td>4262962299951</td>\n",
       "      <td>F</td>\n",
       "      <td>2016-04-29</td>\n",
       "      <td>2016-04-29</td>\n",
       "      <td>0</td>\n",
       "      <td>No</td>\n",
       "      <td>4</td>\n",
       "    </tr>\n",
       "    <tr>\n",
       "      <th>3</th>\n",
       "      <td>867951213174</td>\n",
       "      <td>F</td>\n",
       "      <td>2016-04-29</td>\n",
       "      <td>2016-04-29</td>\n",
       "      <td>0</td>\n",
       "      <td>No</td>\n",
       "      <td>4</td>\n",
       "    </tr>\n",
       "    <tr>\n",
       "      <th>4</th>\n",
       "      <td>8841186448183</td>\n",
       "      <td>F</td>\n",
       "      <td>2016-04-29</td>\n",
       "      <td>2016-04-29</td>\n",
       "      <td>0</td>\n",
       "      <td>No</td>\n",
       "      <td>4</td>\n",
       "    </tr>\n",
       "    <tr>\n",
       "      <th>...</th>\n",
       "      <td>...</td>\n",
       "      <td>...</td>\n",
       "      <td>...</td>\n",
       "      <td>...</td>\n",
       "      <td>...</td>\n",
       "      <td>...</td>\n",
       "      <td>...</td>\n",
       "    </tr>\n",
       "    <tr>\n",
       "      <th>110522</th>\n",
       "      <td>2572134369293</td>\n",
       "      <td>F</td>\n",
       "      <td>2016-05-03</td>\n",
       "      <td>2016-06-07</td>\n",
       "      <td>1</td>\n",
       "      <td>No</td>\n",
       "      <td>1</td>\n",
       "    </tr>\n",
       "    <tr>\n",
       "      <th>110523</th>\n",
       "      <td>3596266328735</td>\n",
       "      <td>F</td>\n",
       "      <td>2016-05-03</td>\n",
       "      <td>2016-06-07</td>\n",
       "      <td>1</td>\n",
       "      <td>No</td>\n",
       "      <td>1</td>\n",
       "    </tr>\n",
       "    <tr>\n",
       "      <th>110524</th>\n",
       "      <td>15576631729893</td>\n",
       "      <td>F</td>\n",
       "      <td>2016-04-27</td>\n",
       "      <td>2016-06-07</td>\n",
       "      <td>1</td>\n",
       "      <td>No</td>\n",
       "      <td>1</td>\n",
       "    </tr>\n",
       "    <tr>\n",
       "      <th>110525</th>\n",
       "      <td>92134931435557</td>\n",
       "      <td>F</td>\n",
       "      <td>2016-04-27</td>\n",
       "      <td>2016-06-07</td>\n",
       "      <td>1</td>\n",
       "      <td>No</td>\n",
       "      <td>1</td>\n",
       "    </tr>\n",
       "    <tr>\n",
       "      <th>110526</th>\n",
       "      <td>377511518121127</td>\n",
       "      <td>F</td>\n",
       "      <td>2016-04-27</td>\n",
       "      <td>2016-06-07</td>\n",
       "      <td>1</td>\n",
       "      <td>No</td>\n",
       "      <td>1</td>\n",
       "    </tr>\n",
       "  </tbody>\n",
       "</table>\n",
       "<p>110527 rows × 7 columns</p>\n",
       "</div>"
      ],
      "text/plain": [
       "              PatientId Gender ScheduledDay AppointmentDay  SmsReceived  \\\n",
       "0        29872499824296      F   2016-04-29     2016-04-29            0   \n",
       "1       558997776694438      M   2016-04-29     2016-04-29            0   \n",
       "2         4262962299951      F   2016-04-29     2016-04-29            0   \n",
       "3          867951213174      F   2016-04-29     2016-04-29            0   \n",
       "4         8841186448183      F   2016-04-29     2016-04-29            0   \n",
       "...                 ...    ...          ...            ...          ...   \n",
       "110522    2572134369293      F   2016-05-03     2016-06-07            1   \n",
       "110523    3596266328735      F   2016-05-03     2016-06-07            1   \n",
       "110524   15576631729893      F   2016-04-27     2016-06-07            1   \n",
       "110525   92134931435557      F   2016-04-27     2016-06-07            1   \n",
       "110526  377511518121127      F   2016-04-27     2016-06-07            1   \n",
       "\n",
       "       NoShow  DayId  \n",
       "0          No      4  \n",
       "1          No      4  \n",
       "2          No      4  \n",
       "3          No      4  \n",
       "4          No      4  \n",
       "...       ...    ...  \n",
       "110522     No      1  \n",
       "110523     No      1  \n",
       "110524     No      1  \n",
       "110525     No      1  \n",
       "110526     No      1  \n",
       "\n",
       "[110527 rows x 7 columns]"
      ]
     },
     "execution_count": 8,
     "metadata": {},
     "output_type": "execute_result"
    }
   ],
   "source": [
    "df_nsa_filtered.rename(columns={'SMS_received': 'SmsReceived','No-show': 'NoShow'}, inplace=True )\n",
    "df_nsa_filtered"
   ]
  },
  {
   "cell_type": "markdown",
   "metadata": {},
   "source": [
    "---\n",
    "> <span style=\"color:grey\">  Now that the column names have been updated, I want to update the NoShow column to make the data easier to understande.  We will update \"No\" to say \"Attended\" and \"Yes\" to say \"Missed\".  This will allow for better clarity during the analysis stage.</span>"
   ]
  },
  {
   "cell_type": "code",
   "execution_count": 9,
   "metadata": {
    "scrolled": false
   },
   "outputs": [
    {
     "data": {
      "text/html": [
       "<div>\n",
       "<style scoped>\n",
       "    .dataframe tbody tr th:only-of-type {\n",
       "        vertical-align: middle;\n",
       "    }\n",
       "\n",
       "    .dataframe tbody tr th {\n",
       "        vertical-align: top;\n",
       "    }\n",
       "\n",
       "    .dataframe thead th {\n",
       "        text-align: right;\n",
       "    }\n",
       "</style>\n",
       "<table border=\"1\" class=\"dataframe\">\n",
       "  <thead>\n",
       "    <tr style=\"text-align: right;\">\n",
       "      <th></th>\n",
       "      <th>PatientId</th>\n",
       "      <th>Gender</th>\n",
       "      <th>ScheduledDay</th>\n",
       "      <th>AppointmentDay</th>\n",
       "      <th>SmsReceived</th>\n",
       "      <th>NoShow</th>\n",
       "      <th>DayId</th>\n",
       "    </tr>\n",
       "  </thead>\n",
       "  <tbody>\n",
       "    <tr>\n",
       "      <th>0</th>\n",
       "      <td>29872499824296</td>\n",
       "      <td>F</td>\n",
       "      <td>2016-04-29</td>\n",
       "      <td>2016-04-29</td>\n",
       "      <td>0</td>\n",
       "      <td>Attended</td>\n",
       "      <td>4</td>\n",
       "    </tr>\n",
       "    <tr>\n",
       "      <th>1</th>\n",
       "      <td>558997776694438</td>\n",
       "      <td>M</td>\n",
       "      <td>2016-04-29</td>\n",
       "      <td>2016-04-29</td>\n",
       "      <td>0</td>\n",
       "      <td>Attended</td>\n",
       "      <td>4</td>\n",
       "    </tr>\n",
       "    <tr>\n",
       "      <th>2</th>\n",
       "      <td>4262962299951</td>\n",
       "      <td>F</td>\n",
       "      <td>2016-04-29</td>\n",
       "      <td>2016-04-29</td>\n",
       "      <td>0</td>\n",
       "      <td>Attended</td>\n",
       "      <td>4</td>\n",
       "    </tr>\n",
       "    <tr>\n",
       "      <th>3</th>\n",
       "      <td>867951213174</td>\n",
       "      <td>F</td>\n",
       "      <td>2016-04-29</td>\n",
       "      <td>2016-04-29</td>\n",
       "      <td>0</td>\n",
       "      <td>Attended</td>\n",
       "      <td>4</td>\n",
       "    </tr>\n",
       "    <tr>\n",
       "      <th>4</th>\n",
       "      <td>8841186448183</td>\n",
       "      <td>F</td>\n",
       "      <td>2016-04-29</td>\n",
       "      <td>2016-04-29</td>\n",
       "      <td>0</td>\n",
       "      <td>Attended</td>\n",
       "      <td>4</td>\n",
       "    </tr>\n",
       "    <tr>\n",
       "      <th>...</th>\n",
       "      <td>...</td>\n",
       "      <td>...</td>\n",
       "      <td>...</td>\n",
       "      <td>...</td>\n",
       "      <td>...</td>\n",
       "      <td>...</td>\n",
       "      <td>...</td>\n",
       "    </tr>\n",
       "    <tr>\n",
       "      <th>110522</th>\n",
       "      <td>2572134369293</td>\n",
       "      <td>F</td>\n",
       "      <td>2016-05-03</td>\n",
       "      <td>2016-06-07</td>\n",
       "      <td>1</td>\n",
       "      <td>Attended</td>\n",
       "      <td>1</td>\n",
       "    </tr>\n",
       "    <tr>\n",
       "      <th>110523</th>\n",
       "      <td>3596266328735</td>\n",
       "      <td>F</td>\n",
       "      <td>2016-05-03</td>\n",
       "      <td>2016-06-07</td>\n",
       "      <td>1</td>\n",
       "      <td>Attended</td>\n",
       "      <td>1</td>\n",
       "    </tr>\n",
       "    <tr>\n",
       "      <th>110524</th>\n",
       "      <td>15576631729893</td>\n",
       "      <td>F</td>\n",
       "      <td>2016-04-27</td>\n",
       "      <td>2016-06-07</td>\n",
       "      <td>1</td>\n",
       "      <td>Attended</td>\n",
       "      <td>1</td>\n",
       "    </tr>\n",
       "    <tr>\n",
       "      <th>110525</th>\n",
       "      <td>92134931435557</td>\n",
       "      <td>F</td>\n",
       "      <td>2016-04-27</td>\n",
       "      <td>2016-06-07</td>\n",
       "      <td>1</td>\n",
       "      <td>Attended</td>\n",
       "      <td>1</td>\n",
       "    </tr>\n",
       "    <tr>\n",
       "      <th>110526</th>\n",
       "      <td>377511518121127</td>\n",
       "      <td>F</td>\n",
       "      <td>2016-04-27</td>\n",
       "      <td>2016-06-07</td>\n",
       "      <td>1</td>\n",
       "      <td>Attended</td>\n",
       "      <td>1</td>\n",
       "    </tr>\n",
       "  </tbody>\n",
       "</table>\n",
       "<p>110527 rows × 7 columns</p>\n",
       "</div>"
      ],
      "text/plain": [
       "              PatientId Gender ScheduledDay AppointmentDay  SmsReceived  \\\n",
       "0        29872499824296      F   2016-04-29     2016-04-29            0   \n",
       "1       558997776694438      M   2016-04-29     2016-04-29            0   \n",
       "2         4262962299951      F   2016-04-29     2016-04-29            0   \n",
       "3          867951213174      F   2016-04-29     2016-04-29            0   \n",
       "4         8841186448183      F   2016-04-29     2016-04-29            0   \n",
       "...                 ...    ...          ...            ...          ...   \n",
       "110522    2572134369293      F   2016-05-03     2016-06-07            1   \n",
       "110523    3596266328735      F   2016-05-03     2016-06-07            1   \n",
       "110524   15576631729893      F   2016-04-27     2016-06-07            1   \n",
       "110525   92134931435557      F   2016-04-27     2016-06-07            1   \n",
       "110526  377511518121127      F   2016-04-27     2016-06-07            1   \n",
       "\n",
       "          NoShow  DayId  \n",
       "0       Attended      4  \n",
       "1       Attended      4  \n",
       "2       Attended      4  \n",
       "3       Attended      4  \n",
       "4       Attended      4  \n",
       "...          ...    ...  \n",
       "110522  Attended      1  \n",
       "110523  Attended      1  \n",
       "110524  Attended      1  \n",
       "110525  Attended      1  \n",
       "110526  Attended      1  \n",
       "\n",
       "[110527 rows x 7 columns]"
      ]
     },
     "execution_count": 9,
     "metadata": {},
     "output_type": "execute_result"
    }
   ],
   "source": [
    "df_nsa_filtered = df_nsa_filtered.replace({'NoShow': {'No': 'Attended', 'Yes': 'Missed'}})\n",
    "df_nsa_filtered"
   ]
  },
  {
   "cell_type": "markdown",
   "metadata": {},
   "source": [
    "---"
   ]
  },
  {
   "cell_type": "markdown",
   "metadata": {},
   "source": [
    "#### <span style=\"color:grey\">New Column Creation </span>"
   ]
  },
  {
   "cell_type": "markdown",
   "metadata": {},
   "source": [
    "> <span style=\"color:grey\"> Now that the data types for each column are assigned appropriately, we can make two new calculated columns based on date information. </span>\n",
    "***\n",
    "> <span style=\"color:grey\"> First, we will calculate the days a patient had to wait for their appointment after it was scheduled.</span>"
   ]
  },
  {
   "cell_type": "code",
   "execution_count": 10,
   "metadata": {
    "scrolled": false
   },
   "outputs": [
    {
     "data": {
      "text/html": [
       "<div>\n",
       "<style scoped>\n",
       "    .dataframe tbody tr th:only-of-type {\n",
       "        vertical-align: middle;\n",
       "    }\n",
       "\n",
       "    .dataframe tbody tr th {\n",
       "        vertical-align: top;\n",
       "    }\n",
       "\n",
       "    .dataframe thead th {\n",
       "        text-align: right;\n",
       "    }\n",
       "</style>\n",
       "<table border=\"1\" class=\"dataframe\">\n",
       "  <thead>\n",
       "    <tr style=\"text-align: right;\">\n",
       "      <th></th>\n",
       "      <th>PatientId</th>\n",
       "      <th>Gender</th>\n",
       "      <th>ScheduledDay</th>\n",
       "      <th>AppointmentDay</th>\n",
       "      <th>SmsReceived</th>\n",
       "      <th>NoShow</th>\n",
       "      <th>DayId</th>\n",
       "      <th>DaysWaiting</th>\n",
       "    </tr>\n",
       "  </thead>\n",
       "  <tbody>\n",
       "    <tr>\n",
       "      <th>0</th>\n",
       "      <td>29872499824296</td>\n",
       "      <td>F</td>\n",
       "      <td>2016-04-29</td>\n",
       "      <td>2016-04-29</td>\n",
       "      <td>0</td>\n",
       "      <td>Attended</td>\n",
       "      <td>4</td>\n",
       "      <td>0</td>\n",
       "    </tr>\n",
       "    <tr>\n",
       "      <th>1</th>\n",
       "      <td>558997776694438</td>\n",
       "      <td>M</td>\n",
       "      <td>2016-04-29</td>\n",
       "      <td>2016-04-29</td>\n",
       "      <td>0</td>\n",
       "      <td>Attended</td>\n",
       "      <td>4</td>\n",
       "      <td>0</td>\n",
       "    </tr>\n",
       "    <tr>\n",
       "      <th>2</th>\n",
       "      <td>4262962299951</td>\n",
       "      <td>F</td>\n",
       "      <td>2016-04-29</td>\n",
       "      <td>2016-04-29</td>\n",
       "      <td>0</td>\n",
       "      <td>Attended</td>\n",
       "      <td>4</td>\n",
       "      <td>0</td>\n",
       "    </tr>\n",
       "    <tr>\n",
       "      <th>3</th>\n",
       "      <td>867951213174</td>\n",
       "      <td>F</td>\n",
       "      <td>2016-04-29</td>\n",
       "      <td>2016-04-29</td>\n",
       "      <td>0</td>\n",
       "      <td>Attended</td>\n",
       "      <td>4</td>\n",
       "      <td>0</td>\n",
       "    </tr>\n",
       "    <tr>\n",
       "      <th>4</th>\n",
       "      <td>8841186448183</td>\n",
       "      <td>F</td>\n",
       "      <td>2016-04-29</td>\n",
       "      <td>2016-04-29</td>\n",
       "      <td>0</td>\n",
       "      <td>Attended</td>\n",
       "      <td>4</td>\n",
       "      <td>0</td>\n",
       "    </tr>\n",
       "    <tr>\n",
       "      <th>...</th>\n",
       "      <td>...</td>\n",
       "      <td>...</td>\n",
       "      <td>...</td>\n",
       "      <td>...</td>\n",
       "      <td>...</td>\n",
       "      <td>...</td>\n",
       "      <td>...</td>\n",
       "      <td>...</td>\n",
       "    </tr>\n",
       "    <tr>\n",
       "      <th>110522</th>\n",
       "      <td>2572134369293</td>\n",
       "      <td>F</td>\n",
       "      <td>2016-05-03</td>\n",
       "      <td>2016-06-07</td>\n",
       "      <td>1</td>\n",
       "      <td>Attended</td>\n",
       "      <td>1</td>\n",
       "      <td>35</td>\n",
       "    </tr>\n",
       "    <tr>\n",
       "      <th>110523</th>\n",
       "      <td>3596266328735</td>\n",
       "      <td>F</td>\n",
       "      <td>2016-05-03</td>\n",
       "      <td>2016-06-07</td>\n",
       "      <td>1</td>\n",
       "      <td>Attended</td>\n",
       "      <td>1</td>\n",
       "      <td>35</td>\n",
       "    </tr>\n",
       "    <tr>\n",
       "      <th>110524</th>\n",
       "      <td>15576631729893</td>\n",
       "      <td>F</td>\n",
       "      <td>2016-04-27</td>\n",
       "      <td>2016-06-07</td>\n",
       "      <td>1</td>\n",
       "      <td>Attended</td>\n",
       "      <td>1</td>\n",
       "      <td>41</td>\n",
       "    </tr>\n",
       "    <tr>\n",
       "      <th>110525</th>\n",
       "      <td>92134931435557</td>\n",
       "      <td>F</td>\n",
       "      <td>2016-04-27</td>\n",
       "      <td>2016-06-07</td>\n",
       "      <td>1</td>\n",
       "      <td>Attended</td>\n",
       "      <td>1</td>\n",
       "      <td>41</td>\n",
       "    </tr>\n",
       "    <tr>\n",
       "      <th>110526</th>\n",
       "      <td>377511518121127</td>\n",
       "      <td>F</td>\n",
       "      <td>2016-04-27</td>\n",
       "      <td>2016-06-07</td>\n",
       "      <td>1</td>\n",
       "      <td>Attended</td>\n",
       "      <td>1</td>\n",
       "      <td>41</td>\n",
       "    </tr>\n",
       "  </tbody>\n",
       "</table>\n",
       "<p>110527 rows × 8 columns</p>\n",
       "</div>"
      ],
      "text/plain": [
       "              PatientId Gender ScheduledDay AppointmentDay  SmsReceived  \\\n",
       "0        29872499824296      F   2016-04-29     2016-04-29            0   \n",
       "1       558997776694438      M   2016-04-29     2016-04-29            0   \n",
       "2         4262962299951      F   2016-04-29     2016-04-29            0   \n",
       "3          867951213174      F   2016-04-29     2016-04-29            0   \n",
       "4         8841186448183      F   2016-04-29     2016-04-29            0   \n",
       "...                 ...    ...          ...            ...          ...   \n",
       "110522    2572134369293      F   2016-05-03     2016-06-07            1   \n",
       "110523    3596266328735      F   2016-05-03     2016-06-07            1   \n",
       "110524   15576631729893      F   2016-04-27     2016-06-07            1   \n",
       "110525   92134931435557      F   2016-04-27     2016-06-07            1   \n",
       "110526  377511518121127      F   2016-04-27     2016-06-07            1   \n",
       "\n",
       "          NoShow  DayId  DaysWaiting  \n",
       "0       Attended      4            0  \n",
       "1       Attended      4            0  \n",
       "2       Attended      4            0  \n",
       "3       Attended      4            0  \n",
       "4       Attended      4            0  \n",
       "...          ...    ...          ...  \n",
       "110522  Attended      1           35  \n",
       "110523  Attended      1           35  \n",
       "110524  Attended      1           41  \n",
       "110525  Attended      1           41  \n",
       "110526  Attended      1           41  \n",
       "\n",
       "[110527 rows x 8 columns]"
      ]
     },
     "execution_count": 10,
     "metadata": {},
     "output_type": "execute_result"
    }
   ],
   "source": [
    "df_nsa_filtered['DaysWaiting'] = np.round(((df_nsa_filtered['AppointmentDay'] - df_nsa_filtered['ScheduledDay']) / np.timedelta64(1, 'D')).astype(int))\n",
    "df_nsa_filtered"
   ]
  },
  {
   "cell_type": "markdown",
   "metadata": {},
   "source": [
    "> <span style=\"color:grey\"> Second, we will create a column for the day of the week the appointment was scheduled.</span>"
   ]
  },
  {
   "cell_type": "code",
   "execution_count": 11,
   "metadata": {
    "scrolled": false
   },
   "outputs": [
    {
     "data": {
      "text/html": [
       "<div>\n",
       "<style scoped>\n",
       "    .dataframe tbody tr th:only-of-type {\n",
       "        vertical-align: middle;\n",
       "    }\n",
       "\n",
       "    .dataframe tbody tr th {\n",
       "        vertical-align: top;\n",
       "    }\n",
       "\n",
       "    .dataframe thead th {\n",
       "        text-align: right;\n",
       "    }\n",
       "</style>\n",
       "<table border=\"1\" class=\"dataframe\">\n",
       "  <thead>\n",
       "    <tr style=\"text-align: right;\">\n",
       "      <th></th>\n",
       "      <th>PatientId</th>\n",
       "      <th>Gender</th>\n",
       "      <th>ScheduledDay</th>\n",
       "      <th>AppointmentDay</th>\n",
       "      <th>SmsReceived</th>\n",
       "      <th>NoShow</th>\n",
       "      <th>DayId</th>\n",
       "      <th>DaysWaiting</th>\n",
       "      <th>Weekday</th>\n",
       "    </tr>\n",
       "  </thead>\n",
       "  <tbody>\n",
       "    <tr>\n",
       "      <th>0</th>\n",
       "      <td>29872499824296</td>\n",
       "      <td>F</td>\n",
       "      <td>2016-04-29</td>\n",
       "      <td>2016-04-29</td>\n",
       "      <td>0</td>\n",
       "      <td>Attended</td>\n",
       "      <td>4</td>\n",
       "      <td>0</td>\n",
       "      <td>Friday</td>\n",
       "    </tr>\n",
       "    <tr>\n",
       "      <th>1</th>\n",
       "      <td>558997776694438</td>\n",
       "      <td>M</td>\n",
       "      <td>2016-04-29</td>\n",
       "      <td>2016-04-29</td>\n",
       "      <td>0</td>\n",
       "      <td>Attended</td>\n",
       "      <td>4</td>\n",
       "      <td>0</td>\n",
       "      <td>Friday</td>\n",
       "    </tr>\n",
       "    <tr>\n",
       "      <th>2</th>\n",
       "      <td>4262962299951</td>\n",
       "      <td>F</td>\n",
       "      <td>2016-04-29</td>\n",
       "      <td>2016-04-29</td>\n",
       "      <td>0</td>\n",
       "      <td>Attended</td>\n",
       "      <td>4</td>\n",
       "      <td>0</td>\n",
       "      <td>Friday</td>\n",
       "    </tr>\n",
       "    <tr>\n",
       "      <th>3</th>\n",
       "      <td>867951213174</td>\n",
       "      <td>F</td>\n",
       "      <td>2016-04-29</td>\n",
       "      <td>2016-04-29</td>\n",
       "      <td>0</td>\n",
       "      <td>Attended</td>\n",
       "      <td>4</td>\n",
       "      <td>0</td>\n",
       "      <td>Friday</td>\n",
       "    </tr>\n",
       "    <tr>\n",
       "      <th>4</th>\n",
       "      <td>8841186448183</td>\n",
       "      <td>F</td>\n",
       "      <td>2016-04-29</td>\n",
       "      <td>2016-04-29</td>\n",
       "      <td>0</td>\n",
       "      <td>Attended</td>\n",
       "      <td>4</td>\n",
       "      <td>0</td>\n",
       "      <td>Friday</td>\n",
       "    </tr>\n",
       "    <tr>\n",
       "      <th>...</th>\n",
       "      <td>...</td>\n",
       "      <td>...</td>\n",
       "      <td>...</td>\n",
       "      <td>...</td>\n",
       "      <td>...</td>\n",
       "      <td>...</td>\n",
       "      <td>...</td>\n",
       "      <td>...</td>\n",
       "      <td>...</td>\n",
       "    </tr>\n",
       "    <tr>\n",
       "      <th>110522</th>\n",
       "      <td>2572134369293</td>\n",
       "      <td>F</td>\n",
       "      <td>2016-05-03</td>\n",
       "      <td>2016-06-07</td>\n",
       "      <td>1</td>\n",
       "      <td>Attended</td>\n",
       "      <td>1</td>\n",
       "      <td>35</td>\n",
       "      <td>Tuesday</td>\n",
       "    </tr>\n",
       "    <tr>\n",
       "      <th>110523</th>\n",
       "      <td>3596266328735</td>\n",
       "      <td>F</td>\n",
       "      <td>2016-05-03</td>\n",
       "      <td>2016-06-07</td>\n",
       "      <td>1</td>\n",
       "      <td>Attended</td>\n",
       "      <td>1</td>\n",
       "      <td>35</td>\n",
       "      <td>Tuesday</td>\n",
       "    </tr>\n",
       "    <tr>\n",
       "      <th>110524</th>\n",
       "      <td>15576631729893</td>\n",
       "      <td>F</td>\n",
       "      <td>2016-04-27</td>\n",
       "      <td>2016-06-07</td>\n",
       "      <td>1</td>\n",
       "      <td>Attended</td>\n",
       "      <td>1</td>\n",
       "      <td>41</td>\n",
       "      <td>Tuesday</td>\n",
       "    </tr>\n",
       "    <tr>\n",
       "      <th>110525</th>\n",
       "      <td>92134931435557</td>\n",
       "      <td>F</td>\n",
       "      <td>2016-04-27</td>\n",
       "      <td>2016-06-07</td>\n",
       "      <td>1</td>\n",
       "      <td>Attended</td>\n",
       "      <td>1</td>\n",
       "      <td>41</td>\n",
       "      <td>Tuesday</td>\n",
       "    </tr>\n",
       "    <tr>\n",
       "      <th>110526</th>\n",
       "      <td>377511518121127</td>\n",
       "      <td>F</td>\n",
       "      <td>2016-04-27</td>\n",
       "      <td>2016-06-07</td>\n",
       "      <td>1</td>\n",
       "      <td>Attended</td>\n",
       "      <td>1</td>\n",
       "      <td>41</td>\n",
       "      <td>Tuesday</td>\n",
       "    </tr>\n",
       "  </tbody>\n",
       "</table>\n",
       "<p>110527 rows × 9 columns</p>\n",
       "</div>"
      ],
      "text/plain": [
       "              PatientId Gender ScheduledDay AppointmentDay  SmsReceived  \\\n",
       "0        29872499824296      F   2016-04-29     2016-04-29            0   \n",
       "1       558997776694438      M   2016-04-29     2016-04-29            0   \n",
       "2         4262962299951      F   2016-04-29     2016-04-29            0   \n",
       "3          867951213174      F   2016-04-29     2016-04-29            0   \n",
       "4         8841186448183      F   2016-04-29     2016-04-29            0   \n",
       "...                 ...    ...          ...            ...          ...   \n",
       "110522    2572134369293      F   2016-05-03     2016-06-07            1   \n",
       "110523    3596266328735      F   2016-05-03     2016-06-07            1   \n",
       "110524   15576631729893      F   2016-04-27     2016-06-07            1   \n",
       "110525   92134931435557      F   2016-04-27     2016-06-07            1   \n",
       "110526  377511518121127      F   2016-04-27     2016-06-07            1   \n",
       "\n",
       "          NoShow  DayId  DaysWaiting  Weekday  \n",
       "0       Attended      4            0   Friday  \n",
       "1       Attended      4            0   Friday  \n",
       "2       Attended      4            0   Friday  \n",
       "3       Attended      4            0   Friday  \n",
       "4       Attended      4            0   Friday  \n",
       "...          ...    ...          ...      ...  \n",
       "110522  Attended      1           35  Tuesday  \n",
       "110523  Attended      1           35  Tuesday  \n",
       "110524  Attended      1           41  Tuesday  \n",
       "110525  Attended      1           41  Tuesday  \n",
       "110526  Attended      1           41  Tuesday  \n",
       "\n",
       "[110527 rows x 9 columns]"
      ]
     },
     "execution_count": 11,
     "metadata": {},
     "output_type": "execute_result"
    }
   ],
   "source": [
    "df_nsa_filtered['Weekday'] = df_nsa_filtered['AppointmentDay'].dt.day_name()\n",
    "df_nsa_filtered"
   ]
  },
  {
   "cell_type": "markdown",
   "metadata": {},
   "source": [
    "> <span style=\"color:grey\"> Now that the data is clean and our new columns have been created, we are ready to use this as the basis for our analysis.</span>"
   ]
  },
  {
   "cell_type": "markdown",
   "metadata": {},
   "source": [
    "<a id='eda'></a>\n",
    "## <span style=\"color:CadetBlue\">  Exploratory Data Analysis<span>\n",
    "\n",
    "\n",
    "\n",
    "### <span style=\"color:DarkCyan\">Questions 1: Are Men or Women more likely to attend their scheduled appointment? </span>"
   ]
  },
  {
   "cell_type": "markdown",
   "metadata": {},
   "source": [
    "> <span style=\"color:grey\"> We are asking this question to see if there is an observable difference between the genders when it comes to appointment attendance.  If there is a significant difference, this could allow us to do further analysis on what might be causing the imbalance.  </span>\n",
    "</br>\n",
    "</br>\n",
    "> <span style=\"color:grey\"> This report will not be evaluating the Age of either gender.</span>"
   ]
  },
  {
   "cell_type": "markdown",
   "metadata": {},
   "source": [
    "#### <span style=\"color:grey\">Creating new data frames for Gender, Weekday, DaysWaiting and attendance </span>"
   ]
  },
  {
   "cell_type": "markdown",
   "metadata": {},
   "source": [
    "> <span style=\"color:grey\"> To begin our analysis for this question, we will be creating a new dataframe with the relevant fields. This will include Gender, Weekday, DaysWaiting, and NoShow. </span>"
   ]
  },
  {
   "cell_type": "code",
   "execution_count": 12,
   "metadata": {
    "jupyter": {
     "outputs_hidden": true
    },
    "scrolled": false
   },
   "outputs": [
    {
     "data": {
      "text/html": [
       "<div>\n",
       "<style scoped>\n",
       "    .dataframe tbody tr th:only-of-type {\n",
       "        vertical-align: middle;\n",
       "    }\n",
       "\n",
       "    .dataframe tbody tr th {\n",
       "        vertical-align: top;\n",
       "    }\n",
       "\n",
       "    .dataframe thead th {\n",
       "        text-align: right;\n",
       "    }\n",
       "</style>\n",
       "<table border=\"1\" class=\"dataframe\">\n",
       "  <thead>\n",
       "    <tr style=\"text-align: right;\">\n",
       "      <th></th>\n",
       "      <th>Gender</th>\n",
       "      <th>Weekday</th>\n",
       "      <th>DaysWaiting</th>\n",
       "      <th>NoShow</th>\n",
       "    </tr>\n",
       "  </thead>\n",
       "  <tbody>\n",
       "    <tr>\n",
       "      <th>0</th>\n",
       "      <td>F</td>\n",
       "      <td>Friday</td>\n",
       "      <td>0</td>\n",
       "      <td>Attended</td>\n",
       "    </tr>\n",
       "    <tr>\n",
       "      <th>1</th>\n",
       "      <td>M</td>\n",
       "      <td>Friday</td>\n",
       "      <td>0</td>\n",
       "      <td>Attended</td>\n",
       "    </tr>\n",
       "    <tr>\n",
       "      <th>2</th>\n",
       "      <td>F</td>\n",
       "      <td>Friday</td>\n",
       "      <td>0</td>\n",
       "      <td>Attended</td>\n",
       "    </tr>\n",
       "    <tr>\n",
       "      <th>3</th>\n",
       "      <td>F</td>\n",
       "      <td>Friday</td>\n",
       "      <td>0</td>\n",
       "      <td>Attended</td>\n",
       "    </tr>\n",
       "    <tr>\n",
       "      <th>4</th>\n",
       "      <td>F</td>\n",
       "      <td>Friday</td>\n",
       "      <td>0</td>\n",
       "      <td>Attended</td>\n",
       "    </tr>\n",
       "  </tbody>\n",
       "</table>\n",
       "</div>"
      ],
      "text/plain": [
       "  Gender Weekday  DaysWaiting    NoShow\n",
       "0      F  Friday            0  Attended\n",
       "1      M  Friday            0  Attended\n",
       "2      F  Friday            0  Attended\n",
       "3      F  Friday            0  Attended\n",
       "4      F  Friday            0  Attended"
      ]
     },
     "execution_count": 12,
     "metadata": {},
     "output_type": "execute_result"
    }
   ],
   "source": [
    "df_nsa_gender = df_nsa_filtered.filter(['Gender', 'Weekday','DaysWaiting', 'NoShow'])\n",
    "df_nsa_gender.head()"
   ]
  },
  {
   "cell_type": "markdown",
   "metadata": {},
   "source": [
    "####  <span style=\"color:grey\">Separating the male and female data </span>"
   ]
  },
  {
   "cell_type": "markdown",
   "metadata": {},
   "source": [
    "> <span style=\"color:grey\"> We will now separate the Male and Female data so it can be used for separate analyses.  To account for a possible errors in data, we will also be filtering each group to make sure only records with a postive value in the <em>DaysWaiting</em> column will be included. </span>"
   ]
  },
  {
   "cell_type": "code",
   "execution_count": 13,
   "metadata": {
    "scrolled": false
   },
   "outputs": [
    {
     "name": "stdout",
     "output_type": "stream",
     "text": [
      "<class 'pandas.core.frame.DataFrame'>\n",
      "Int64Index: 71837 entries, 0 to 110526\n",
      "Data columns (total 4 columns):\n",
      " #   Column       Non-Null Count  Dtype \n",
      "---  ------       --------------  ----- \n",
      " 0   Gender       71837 non-null  object\n",
      " 1   Weekday      71837 non-null  object\n",
      " 2   DaysWaiting  71837 non-null  int64 \n",
      " 3   NoShow       71837 non-null  object\n",
      "dtypes: int64(1), object(3)\n",
      "memory usage: 2.7+ MB\n"
     ]
    }
   ],
   "source": [
    "df_nsa_female = df_nsa_gender.loc[(df_nsa_gender['Gender'] == 'F') & (df_nsa_gender['DaysWaiting'] >= 0)]\n",
    "df_nsa_female.info()"
   ]
  },
  {
   "cell_type": "code",
   "execution_count": 14,
   "metadata": {
    "scrolled": false
   },
   "outputs": [
    {
     "name": "stdout",
     "output_type": "stream",
     "text": [
      "<class 'pandas.core.frame.DataFrame'>\n",
      "Int64Index: 38685 entries, 1 to 110515\n",
      "Data columns (total 4 columns):\n",
      " #   Column       Non-Null Count  Dtype \n",
      "---  ------       --------------  ----- \n",
      " 0   Gender       38685 non-null  object\n",
      " 1   Weekday      38685 non-null  object\n",
      " 2   DaysWaiting  38685 non-null  int64 \n",
      " 3   NoShow       38685 non-null  object\n",
      "dtypes: int64(1), object(3)\n",
      "memory usage: 1.5+ MB\n"
     ]
    }
   ],
   "source": [
    "df_nsa_male = df_nsa_gender.loc[(df_nsa_gender['Gender'] == 'M') & (df_nsa_gender['DaysWaiting'] >= 0)]\n",
    "df_nsa_male.info()"
   ]
  },
  {
   "cell_type": "markdown",
   "metadata": {},
   "source": [
    "> <span style=\"color:grey\">After reviewing the lists above, we can observe that there are almost double the amount of female records than male records so we will be comparing the percent to whole numbers within each of the groups.</span>"
   ]
  },
  {
   "cell_type": "markdown",
   "metadata": {},
   "source": [
    "#### <span style=\"color:grey\">Calculating the percent to whole of each group </span>"
   ]
  },
  {
   "cell_type": "markdown",
   "metadata": {},
   "source": [
    "> <span style=\"color:grey\"> We now need to create the percent to whole calculation for each group that will be used to create a visualization.</span>"
   ]
  },
  {
   "cell_type": "code",
   "execution_count": 15,
   "metadata": {
    "scrolled": true
   },
   "outputs": [
    {
     "data": {
      "text/html": [
       "<div>\n",
       "<style scoped>\n",
       "    .dataframe tbody tr th:only-of-type {\n",
       "        vertical-align: middle;\n",
       "    }\n",
       "\n",
       "    .dataframe tbody tr th {\n",
       "        vertical-align: top;\n",
       "    }\n",
       "\n",
       "    .dataframe thead th {\n",
       "        text-align: right;\n",
       "    }\n",
       "</style>\n",
       "<table border=\"1\" class=\"dataframe\">\n",
       "  <thead>\n",
       "    <tr style=\"text-align: right;\">\n",
       "      <th></th>\n",
       "      <th></th>\n",
       "      <th>Percent</th>\n",
       "    </tr>\n",
       "    <tr>\n",
       "      <th>Gender</th>\n",
       "      <th>NoShow</th>\n",
       "      <th></th>\n",
       "    </tr>\n",
       "  </thead>\n",
       "  <tbody>\n",
       "    <tr>\n",
       "      <th rowspan=\"2\" valign=\"top\">M</th>\n",
       "      <th>Attended</th>\n",
       "      <td>80.04</td>\n",
       "    </tr>\n",
       "    <tr>\n",
       "      <th>Missed</th>\n",
       "      <td>19.96</td>\n",
       "    </tr>\n",
       "  </tbody>\n",
       "</table>\n",
       "</div>"
      ],
      "text/plain": [
       "                 Percent\n",
       "Gender NoShow           \n",
       "M      Attended    80.04\n",
       "       Missed      19.96"
      ]
     },
     "execution_count": 15,
     "metadata": {},
     "output_type": "execute_result"
    }
   ],
   "source": [
    "s_nsa_male = df_nsa_male.groupby(['Gender','NoShow'])['Gender'].count().transform(lambda x: x/x.sum()).mul(100).round(2)\n",
    "df_nsa_male_apt = (pd.DataFrame(s_nsa_male)).rename(columns={'Gender': 'Percent'})\n",
    "df_nsa_male_apt"
   ]
  },
  {
   "cell_type": "code",
   "execution_count": 16,
   "metadata": {
    "scrolled": false
   },
   "outputs": [
    {
     "data": {
      "text/html": [
       "<div>\n",
       "<style scoped>\n",
       "    .dataframe tbody tr th:only-of-type {\n",
       "        vertical-align: middle;\n",
       "    }\n",
       "\n",
       "    .dataframe tbody tr th {\n",
       "        vertical-align: top;\n",
       "    }\n",
       "\n",
       "    .dataframe thead th {\n",
       "        text-align: right;\n",
       "    }\n",
       "</style>\n",
       "<table border=\"1\" class=\"dataframe\">\n",
       "  <thead>\n",
       "    <tr style=\"text-align: right;\">\n",
       "      <th></th>\n",
       "      <th></th>\n",
       "      <th>Percent</th>\n",
       "    </tr>\n",
       "    <tr>\n",
       "      <th>Gender</th>\n",
       "      <th>NoShow</th>\n",
       "      <th></th>\n",
       "    </tr>\n",
       "  </thead>\n",
       "  <tbody>\n",
       "    <tr>\n",
       "      <th rowspan=\"2\" valign=\"top\">F</th>\n",
       "      <th>Attended</th>\n",
       "      <td>79.69</td>\n",
       "    </tr>\n",
       "    <tr>\n",
       "      <th>Missed</th>\n",
       "      <td>20.31</td>\n",
       "    </tr>\n",
       "  </tbody>\n",
       "</table>\n",
       "</div>"
      ],
      "text/plain": [
       "                 Percent\n",
       "Gender NoShow           \n",
       "F      Attended    79.69\n",
       "       Missed      20.31"
      ]
     },
     "execution_count": 16,
     "metadata": {},
     "output_type": "execute_result"
    }
   ],
   "source": [
    "s_nsa_female = df_nsa_female.groupby(['Gender','NoShow'])['Gender'].count().transform(lambda x: x/x.sum()).mul(100).round(2)\n",
    "df_nsa_female_apt = (pd.DataFrame(s_nsa_female)).rename(columns={'Gender': 'Percent'})\n",
    "df_nsa_female_apt"
   ]
  },
  {
   "cell_type": "markdown",
   "metadata": {},
   "source": [
    "#### <span style=\"color:grey\"> Charting attendance percentages for Men and Women </span>"
   ]
  },
  {
   "cell_type": "markdown",
   "metadata": {},
   "source": [
    "> <span style=\"color:grey\"> We will be using a simple Pie chart to visualize this data as it is the best option to view percent to whole statistics</span>\n"
   ]
  },
  {
   "cell_type": "code",
   "execution_count": 17,
   "metadata": {
    "scrolled": false
   },
   "outputs": [
    {
     "data": {
      "image/png": "[encoded data removed]",
      "text/plain": [
       "<Figure size 800x800 with 1 Axes>"
      ]
     },
     "metadata": {},
     "output_type": "display_data"
    }
   ],
   "source": [
    "df_nsa_male_apt.plot.pie(subplots=True,autopct='%1.2f%%',figsize=(8,8))\n",
    "plt.title(\"Male Attendance of Medical Appointments\")\n",
    "plt.legend(['Attended', 'Missed'], loc='upper right')\n",
    "plt.show(block = False)"
   ]
  },
  {
   "cell_type": "code",
   "execution_count": 18,
   "metadata": {
    "scrolled": false
   },
   "outputs": [
    {
     "data": {
      "image/png": "[encoded data removed]",
      "text/plain": [
       "<Figure size 800x800 with 1 Axes>"
      ]
     },
     "metadata": {},
     "output_type": "display_data"
    }
   ],
   "source": [
    "df_nsa_female_apt.plot.pie(subplots=True, autopct='%1.2f%%',figsize=(8,8))\n",
    "plt.block = False\n",
    "plt.title(\"Female Attendance of Medical Appointments\")\n",
    "plt.legend(['Attended', 'Missed'], loc='upper right')\n",
    "plt.show(block = False)"
   ]
  },
  {
   "cell_type": "markdown",
   "metadata": {},
   "source": [
    "\n",
    "#### <span style=\"color:grey\">Upon viewing the charts, we can see that the attendance rate among Men and Women are virtually identical. As the variance between the genders is so low, gender does not appear to be a contributing factor on predicting if someone is more likely to miss an appointment</span> \n",
    "</br>\n",
    "</br>\n",
    "</br>\n"
   ]
  },
  {
   "cell_type": "markdown",
   "metadata": {},
   "source": [
    "***"
   ]
  },
  {
   "cell_type": "markdown",
   "metadata": {},
   "source": [
    "### <span style=\"color:DarkCyan\">Questions 2:  Which day of the week is a scheduled appointment most likely to be missed? </span>"
   ]
  },
  {
   "cell_type": "markdown",
   "metadata": {},
   "source": [
    "> <span style=\"color:grey\"> The answer to question will could give us insight on whether the day of the week is a factor as to whether a person is more likely to miss a scheduled appointment</span>"
   ]
  },
  {
   "cell_type": "markdown",
   "metadata": {},
   "source": [
    "#### <span style=\"color:grey\">New Data Frames for day of the week analysis</span>"
   ]
  },
  {
   "cell_type": "markdown",
   "metadata": {},
   "source": [
    "> <span style=\"color:grey\"> For this question we will be creating a new dataframe to look at the DayId, Weekday, DaysWaiting, and NoShow fields. We are using the DayId field for sorting purposes only. </span>\n",
    "***\n",
    "\n",
    "\n",
    "> <span style=\"color:grey\"> This data frame will hold the values for both missed and attended appointments. </span>"
   ]
  },
  {
   "cell_type": "code",
   "execution_count": 19,
   "metadata": {
    "scrolled": false
   },
   "outputs": [
    {
     "data": {
      "text/html": [
       "<div>\n",
       "<style scoped>\n",
       "    .dataframe tbody tr th:only-of-type {\n",
       "        vertical-align: middle;\n",
       "    }\n",
       "\n",
       "    .dataframe tbody tr th {\n",
       "        vertical-align: top;\n",
       "    }\n",
       "\n",
       "    .dataframe thead th {\n",
       "        text-align: right;\n",
       "    }\n",
       "</style>\n",
       "<table border=\"1\" class=\"dataframe\">\n",
       "  <thead>\n",
       "    <tr style=\"text-align: right;\">\n",
       "      <th></th>\n",
       "      <th>DayId</th>\n",
       "      <th>Weekday</th>\n",
       "      <th>NoShow</th>\n",
       "    </tr>\n",
       "  </thead>\n",
       "  <tbody>\n",
       "    <tr>\n",
       "      <th>69973</th>\n",
       "      <td>0</td>\n",
       "      <td>Monday</td>\n",
       "      <td>Missed</td>\n",
       "    </tr>\n",
       "    <tr>\n",
       "      <th>77874</th>\n",
       "      <td>0</td>\n",
       "      <td>Monday</td>\n",
       "      <td>Attended</td>\n",
       "    </tr>\n",
       "    <tr>\n",
       "      <th>77873</th>\n",
       "      <td>0</td>\n",
       "      <td>Monday</td>\n",
       "      <td>Attended</td>\n",
       "    </tr>\n",
       "    <tr>\n",
       "      <th>69805</th>\n",
       "      <td>0</td>\n",
       "      <td>Monday</td>\n",
       "      <td>Missed</td>\n",
       "    </tr>\n",
       "    <tr>\n",
       "      <th>56997</th>\n",
       "      <td>0</td>\n",
       "      <td>Monday</td>\n",
       "      <td>Attended</td>\n",
       "    </tr>\n",
       "    <tr>\n",
       "      <th>...</th>\n",
       "      <td>...</td>\n",
       "      <td>...</td>\n",
       "      <td>...</td>\n",
       "    </tr>\n",
       "    <tr>\n",
       "      <th>72319</th>\n",
       "      <td>5</td>\n",
       "      <td>Saturday</td>\n",
       "      <td>Attended</td>\n",
       "    </tr>\n",
       "    <tr>\n",
       "      <th>72318</th>\n",
       "      <td>5</td>\n",
       "      <td>Saturday</td>\n",
       "      <td>Attended</td>\n",
       "    </tr>\n",
       "    <tr>\n",
       "      <th>72317</th>\n",
       "      <td>5</td>\n",
       "      <td>Saturday</td>\n",
       "      <td>Attended</td>\n",
       "    </tr>\n",
       "    <tr>\n",
       "      <th>72324</th>\n",
       "      <td>5</td>\n",
       "      <td>Saturday</td>\n",
       "      <td>Attended</td>\n",
       "    </tr>\n",
       "    <tr>\n",
       "      <th>72297</th>\n",
       "      <td>5</td>\n",
       "      <td>Saturday</td>\n",
       "      <td>Attended</td>\n",
       "    </tr>\n",
       "  </tbody>\n",
       "</table>\n",
       "<p>110522 rows × 3 columns</p>\n",
       "</div>"
      ],
      "text/plain": [
       "       DayId   Weekday    NoShow\n",
       "69973      0    Monday    Missed\n",
       "77874      0    Monday  Attended\n",
       "77873      0    Monday  Attended\n",
       "69805      0    Monday    Missed\n",
       "56997      0    Monday  Attended\n",
       "...      ...       ...       ...\n",
       "72319      5  Saturday  Attended\n",
       "72318      5  Saturday  Attended\n",
       "72317      5  Saturday  Attended\n",
       "72324      5  Saturday  Attended\n",
       "72297      5  Saturday  Attended\n",
       "\n",
       "[110522 rows x 3 columns]"
      ]
     },
     "execution_count": 19,
     "metadata": {},
     "output_type": "execute_result"
    }
   ],
   "source": [
    "df_nsa_total = df_nsa_filtered.loc[(df_nsa_filtered['DaysWaiting'] >= 0)].sort_values(by='DayId')\n",
    "df_nsa_total = df_nsa_total[['DayId','Weekday', 'NoShow']]\n",
    "df_nsa_total"
   ]
  },
  {
   "cell_type": "markdown",
   "metadata": {},
   "source": [
    "> <span style=\"color:grey\"> This data frame will hold the values for missed appointments. </span>"
   ]
  },
  {
   "cell_type": "code",
   "execution_count": 20,
   "metadata": {
    "scrolled": false
   },
   "outputs": [
    {
     "data": {
      "text/html": [
       "<div>\n",
       "<style scoped>\n",
       "    .dataframe tbody tr th:only-of-type {\n",
       "        vertical-align: middle;\n",
       "    }\n",
       "\n",
       "    .dataframe tbody tr th {\n",
       "        vertical-align: top;\n",
       "    }\n",
       "\n",
       "    .dataframe thead th {\n",
       "        text-align: right;\n",
       "    }\n",
       "</style>\n",
       "<table border=\"1\" class=\"dataframe\">\n",
       "  <thead>\n",
       "    <tr style=\"text-align: right;\">\n",
       "      <th></th>\n",
       "      <th>DayId</th>\n",
       "      <th>DaysWaiting</th>\n",
       "      <th>Weekday</th>\n",
       "    </tr>\n",
       "  </thead>\n",
       "  <tbody>\n",
       "    <tr>\n",
       "      <th>30435</th>\n",
       "      <td>0</td>\n",
       "      <td>10</td>\n",
       "      <td>Monday</td>\n",
       "    </tr>\n",
       "    <tr>\n",
       "      <th>82472</th>\n",
       "      <td>0</td>\n",
       "      <td>31</td>\n",
       "      <td>Monday</td>\n",
       "    </tr>\n",
       "    <tr>\n",
       "      <th>82473</th>\n",
       "      <td>0</td>\n",
       "      <td>45</td>\n",
       "      <td>Monday</td>\n",
       "    </tr>\n",
       "    <tr>\n",
       "      <th>82477</th>\n",
       "      <td>0</td>\n",
       "      <td>45</td>\n",
       "      <td>Monday</td>\n",
       "    </tr>\n",
       "    <tr>\n",
       "      <th>82480</th>\n",
       "      <td>0</td>\n",
       "      <td>31</td>\n",
       "      <td>Monday</td>\n",
       "    </tr>\n",
       "    <tr>\n",
       "      <th>...</th>\n",
       "      <td>...</td>\n",
       "      <td>...</td>\n",
       "      <td>...</td>\n",
       "    </tr>\n",
       "    <tr>\n",
       "      <th>72315</th>\n",
       "      <td>5</td>\n",
       "      <td>11</td>\n",
       "      <td>Saturday</td>\n",
       "    </tr>\n",
       "    <tr>\n",
       "      <th>72314</th>\n",
       "      <td>5</td>\n",
       "      <td>12</td>\n",
       "      <td>Saturday</td>\n",
       "    </tr>\n",
       "    <tr>\n",
       "      <th>72311</th>\n",
       "      <td>5</td>\n",
       "      <td>1</td>\n",
       "      <td>Saturday</td>\n",
       "    </tr>\n",
       "    <tr>\n",
       "      <th>72309</th>\n",
       "      <td>5</td>\n",
       "      <td>3</td>\n",
       "      <td>Saturday</td>\n",
       "    </tr>\n",
       "    <tr>\n",
       "      <th>72296</th>\n",
       "      <td>5</td>\n",
       "      <td>2</td>\n",
       "      <td>Saturday</td>\n",
       "    </tr>\n",
       "  </tbody>\n",
       "</table>\n",
       "<p>22314 rows × 3 columns</p>\n",
       "</div>"
      ],
      "text/plain": [
       "       DayId  DaysWaiting   Weekday\n",
       "30435      0           10    Monday\n",
       "82472      0           31    Monday\n",
       "82473      0           45    Monday\n",
       "82477      0           45    Monday\n",
       "82480      0           31    Monday\n",
       "...      ...          ...       ...\n",
       "72315      5           11  Saturday\n",
       "72314      5           12  Saturday\n",
       "72311      5            1  Saturday\n",
       "72309      5            3  Saturday\n",
       "72296      5            2  Saturday\n",
       "\n",
       "[22314 rows x 3 columns]"
      ]
     },
     "execution_count": 20,
     "metadata": {},
     "output_type": "execute_result"
    }
   ],
   "source": [
    "df_nsa_missed = df_nsa_filtered.loc[(df_nsa_filtered['NoShow'] == 'Missed') & (df_nsa_filtered['DaysWaiting'] >= 0)].sort_values(by='DayId')\n",
    "df_nsa_missed = df_nsa_missed[['DayId','DaysWaiting', 'Weekday']]\n",
    "df_nsa_missed "
   ]
  },
  {
   "cell_type": "markdown",
   "metadata": {},
   "source": [
    "> <span style=\"color:grey\"> This data frame will hold the values for attended appointments. </span>"
   ]
  },
  {
   "cell_type": "code",
   "execution_count": 21,
   "metadata": {
    "scrolled": false
   },
   "outputs": [
    {
     "data": {
      "text/html": [
       "<div>\n",
       "<style scoped>\n",
       "    .dataframe tbody tr th:only-of-type {\n",
       "        vertical-align: middle;\n",
       "    }\n",
       "\n",
       "    .dataframe tbody tr th {\n",
       "        vertical-align: top;\n",
       "    }\n",
       "\n",
       "    .dataframe thead th {\n",
       "        text-align: right;\n",
       "    }\n",
       "</style>\n",
       "<table border=\"1\" class=\"dataframe\">\n",
       "  <thead>\n",
       "    <tr style=\"text-align: right;\">\n",
       "      <th></th>\n",
       "      <th>DayId</th>\n",
       "      <th>DaysWaiting</th>\n",
       "      <th>Weekday</th>\n",
       "    </tr>\n",
       "  </thead>\n",
       "  <tbody>\n",
       "    <tr>\n",
       "      <th>62794</th>\n",
       "      <td>0</td>\n",
       "      <td>0</td>\n",
       "      <td>Monday</td>\n",
       "    </tr>\n",
       "    <tr>\n",
       "      <th>45414</th>\n",
       "      <td>0</td>\n",
       "      <td>0</td>\n",
       "      <td>Monday</td>\n",
       "    </tr>\n",
       "    <tr>\n",
       "      <th>45420</th>\n",
       "      <td>0</td>\n",
       "      <td>7</td>\n",
       "      <td>Monday</td>\n",
       "    </tr>\n",
       "    <tr>\n",
       "      <th>45421</th>\n",
       "      <td>0</td>\n",
       "      <td>6</td>\n",
       "      <td>Monday</td>\n",
       "    </tr>\n",
       "    <tr>\n",
       "      <th>45422</th>\n",
       "      <td>0</td>\n",
       "      <td>14</td>\n",
       "      <td>Monday</td>\n",
       "    </tr>\n",
       "    <tr>\n",
       "      <th>...</th>\n",
       "      <td>...</td>\n",
       "      <td>...</td>\n",
       "      <td>...</td>\n",
       "    </tr>\n",
       "    <tr>\n",
       "      <th>72328</th>\n",
       "      <td>5</td>\n",
       "      <td>2</td>\n",
       "      <td>Saturday</td>\n",
       "    </tr>\n",
       "    <tr>\n",
       "      <th>72330</th>\n",
       "      <td>5</td>\n",
       "      <td>0</td>\n",
       "      <td>Saturday</td>\n",
       "    </tr>\n",
       "    <tr>\n",
       "      <th>72332</th>\n",
       "      <td>5</td>\n",
       "      <td>0</td>\n",
       "      <td>Saturday</td>\n",
       "    </tr>\n",
       "    <tr>\n",
       "      <th>72303</th>\n",
       "      <td>5</td>\n",
       "      <td>12</td>\n",
       "      <td>Saturday</td>\n",
       "    </tr>\n",
       "    <tr>\n",
       "      <th>72307</th>\n",
       "      <td>5</td>\n",
       "      <td>4</td>\n",
       "      <td>Saturday</td>\n",
       "    </tr>\n",
       "  </tbody>\n",
       "</table>\n",
       "<p>88208 rows × 3 columns</p>\n",
       "</div>"
      ],
      "text/plain": [
       "       DayId  DaysWaiting   Weekday\n",
       "62794      0            0    Monday\n",
       "45414      0            0    Monday\n",
       "45420      0            7    Monday\n",
       "45421      0            6    Monday\n",
       "45422      0           14    Monday\n",
       "...      ...          ...       ...\n",
       "72328      5            2  Saturday\n",
       "72330      5            0  Saturday\n",
       "72332      5            0  Saturday\n",
       "72303      5           12  Saturday\n",
       "72307      5            4  Saturday\n",
       "\n",
       "[88208 rows x 3 columns]"
      ]
     },
     "execution_count": 21,
     "metadata": {},
     "output_type": "execute_result"
    }
   ],
   "source": [
    "df_nsa_attended = df_nsa_filtered.loc[(df_nsa_filtered['NoShow'] == 'Attended') & (df_nsa_filtered['DaysWaiting'] >= 0)].sort_values(by='DayId')\n",
    "df_nsa_attended = df_nsa_attended[['DayId','DaysWaiting', 'Weekday']]\n",
    "df_nsa_attended "
   ]
  },
  {
   "cell_type": "markdown",
   "metadata": {},
   "source": [
    "> <span style=\"color:grey\"> </span>"
   ]
  },
  {
   "cell_type": "markdown",
   "metadata": {},
   "source": [
    "#### <span style=\"color:grey\">Calculating the percent to total for the number of appointments per calendar day</span> "
   ]
  },
  {
   "cell_type": "markdown",
   "metadata": {},
   "source": [
    "> <span style=\"color:grey\"> Now that we have separated the Missed and Attended data, we will be creating a new data frame so we can see both together, but in separate columns. We are also calculating the total for each day and the percent of appointments missed by day. </span>\n"
   ]
  },
  {
   "cell_type": "code",
   "execution_count": 22,
   "metadata": {
    "jupyter": {
     "outputs_hidden": true
    },
    "scrolled": true
   },
   "outputs": [
    {
     "data": {
      "text/html": [
       "<div>\n",
       "<style scoped>\n",
       "    .dataframe tbody tr th:only-of-type {\n",
       "        vertical-align: middle;\n",
       "    }\n",
       "\n",
       "    .dataframe tbody tr th {\n",
       "        vertical-align: top;\n",
       "    }\n",
       "\n",
       "    .dataframe thead th {\n",
       "        text-align: right;\n",
       "    }\n",
       "</style>\n",
       "<table border=\"1\" class=\"dataframe\">\n",
       "  <thead>\n",
       "    <tr style=\"text-align: right;\">\n",
       "      <th></th>\n",
       "      <th>DayId</th>\n",
       "      <th>Weekday</th>\n",
       "      <th>AttendedTotal</th>\n",
       "      <th>MissedTotal</th>\n",
       "      <th>Total</th>\n",
       "      <th>MissedPercent</th>\n",
       "    </tr>\n",
       "  </thead>\n",
       "  <tbody>\n",
       "    <tr>\n",
       "      <th>0</th>\n",
       "      <td>0</td>\n",
       "      <td>Monday</td>\n",
       "      <td>18025</td>\n",
       "      <td>4689</td>\n",
       "      <td>22714</td>\n",
       "      <td>20.6</td>\n",
       "    </tr>\n",
       "    <tr>\n",
       "      <th>1</th>\n",
       "      <td>1</td>\n",
       "      <td>Tuesday</td>\n",
       "      <td>20488</td>\n",
       "      <td>5150</td>\n",
       "      <td>25638</td>\n",
       "      <td>20.1</td>\n",
       "    </tr>\n",
       "    <tr>\n",
       "      <th>2</th>\n",
       "      <td>2</td>\n",
       "      <td>Wednesday</td>\n",
       "      <td>20774</td>\n",
       "      <td>5092</td>\n",
       "      <td>25866</td>\n",
       "      <td>19.7</td>\n",
       "    </tr>\n",
       "    <tr>\n",
       "      <th>3</th>\n",
       "      <td>3</td>\n",
       "      <td>Thursday</td>\n",
       "      <td>13909</td>\n",
       "      <td>3337</td>\n",
       "      <td>17246</td>\n",
       "      <td>19.3</td>\n",
       "    </tr>\n",
       "    <tr>\n",
       "      <th>4</th>\n",
       "      <td>4</td>\n",
       "      <td>Friday</td>\n",
       "      <td>14982</td>\n",
       "      <td>4037</td>\n",
       "      <td>19019</td>\n",
       "      <td>21.2</td>\n",
       "    </tr>\n",
       "    <tr>\n",
       "      <th>5</th>\n",
       "      <td>5</td>\n",
       "      <td>Saturday</td>\n",
       "      <td>30</td>\n",
       "      <td>9</td>\n",
       "      <td>39</td>\n",
       "      <td>23.1</td>\n",
       "    </tr>\n",
       "  </tbody>\n",
       "</table>\n",
       "</div>"
      ],
      "text/plain": [
       "   DayId    Weekday  AttendedTotal  MissedTotal  Total  MissedPercent\n",
       "0      0     Monday          18025         4689  22714           20.6\n",
       "1      1    Tuesday          20488         5150  25638           20.1\n",
       "2      2  Wednesday          20774         5092  25866           19.7\n",
       "3      3   Thursday          13909         3337  17246           19.3\n",
       "4      4     Friday          14982         4037  19019           21.2\n",
       "5      5   Saturday             30            9     39           23.1"
      ]
     },
     "execution_count": 22,
     "metadata": {},
     "output_type": "execute_result"
    }
   ],
   "source": [
    "s_day_attended_count = df_nsa_attended.groupby(['DayId','Weekday'])['Weekday'].count()\n",
    "s_day_missed_count = df_nsa_missed.groupby(['DayId','Weekday'])['Weekday'].count()\n",
    "df_day_total = (pd.DataFrame(s_day_attended_count)).rename(columns={'Weekday': 'AttendedTotal'}).reset_index()\n",
    "df_day_missed_count  = (pd.DataFrame(s_day_missed_count)).rename(columns={'Weekday': 'MissedTotal'}).reset_index()\n",
    "df_day_total['MissedTotal'] = df_day_missed_count['MissedTotal']\n",
    "df_day_total['Total'] = df_day_total['MissedTotal'] + df_day_total['AttendedTotal']\n",
    "df_day_total['MissedPercent'] = df_day_total['MissedTotal'].div(df_day_total['Total']).round(3)*100\n",
    "df_day_total"
   ]
  },
  {
   "cell_type": "markdown",
   "metadata": {},
   "source": [
    "> <span style=\"color:grey\">Reviewing the data above, by numbers, the most appointments missed by day happen on Tuesdays and Wednesdays but by percent to the total appointments booked on a specific day, Saturday and Fridays show a higher missed percentage. </span>\n",
    "***\n",
    "> <span style=\"color:grey\"> The below is looking at the distribution of appointments across the day of the week.  </span>"
   ]
  },
  {
   "cell_type": "code",
   "execution_count": 23,
   "metadata": {
    "scrolled": false
   },
   "outputs": [
    {
     "data": {
      "text/html": [
       "<div>\n",
       "<style scoped>\n",
       "    .dataframe tbody tr th:only-of-type {\n",
       "        vertical-align: middle;\n",
       "    }\n",
       "\n",
       "    .dataframe tbody tr th {\n",
       "        vertical-align: top;\n",
       "    }\n",
       "\n",
       "    .dataframe thead th {\n",
       "        text-align: right;\n",
       "    }\n",
       "</style>\n",
       "<table border=\"1\" class=\"dataframe\">\n",
       "  <thead>\n",
       "    <tr style=\"text-align: right;\">\n",
       "      <th></th>\n",
       "      <th>Percent</th>\n",
       "    </tr>\n",
       "    <tr>\n",
       "      <th>Weekday</th>\n",
       "      <th></th>\n",
       "    </tr>\n",
       "  </thead>\n",
       "  <tbody>\n",
       "    <tr>\n",
       "      <th>Monday</th>\n",
       "      <td>20.55</td>\n",
       "    </tr>\n",
       "    <tr>\n",
       "      <th>Tuesday</th>\n",
       "      <td>23.20</td>\n",
       "    </tr>\n",
       "    <tr>\n",
       "      <th>Wednesday</th>\n",
       "      <td>23.40</td>\n",
       "    </tr>\n",
       "    <tr>\n",
       "      <th>Thursday</th>\n",
       "      <td>15.60</td>\n",
       "    </tr>\n",
       "    <tr>\n",
       "      <th>Friday</th>\n",
       "      <td>17.21</td>\n",
       "    </tr>\n",
       "    <tr>\n",
       "      <th>Saturday</th>\n",
       "      <td>0.04</td>\n",
       "    </tr>\n",
       "  </tbody>\n",
       "</table>\n",
       "</div>"
      ],
      "text/plain": [
       "           Percent\n",
       "Weekday           \n",
       "Monday       20.55\n",
       "Tuesday      23.20\n",
       "Wednesday    23.40\n",
       "Thursday     15.60\n",
       "Friday       17.21\n",
       "Saturday      0.04"
      ]
     },
     "execution_count": 23,
     "metadata": {},
     "output_type": "execute_result"
    }
   ],
   "source": [
    "df_day_total_sorted = df_nsa_total.sort_values('Weekday')\n",
    "df_day_total_weekday = df_day_total_sorted.groupby(['Weekday','NoShow'])['Weekday'].count()\n",
    "s_day_total_combined = df_day_total_sorted.groupby(['Weekday',])['NoShow'].count().transform(lambda x: x/x.sum()).mul(100).round(2).reindex([\"Monday\", \"Tuesday\", \"Wednesday\", 'Thursday', 'Friday', 'Saturday'])\n",
    "df_day_total_combined = (pd.DataFrame(s_day_total_combined)).rename(columns={'NoShow': 'Percent'})\n",
    "df_day_total_combined"
   ]
  },
  {
   "cell_type": "code",
   "execution_count": 24,
   "metadata": {},
   "outputs": [
    {
     "data": {
      "text/plain": [
       "Weekday\n",
       "Tuesday      5150\n",
       "Wednesday    5092\n",
       "Monday       4689\n",
       "Friday       4037\n",
       "Thursday     3337\n",
       "Saturday        9\n",
       "Name: Weekday, dtype: int64"
      ]
     },
     "execution_count": 24,
     "metadata": {},
     "output_type": "execute_result"
    }
   ],
   "source": [
    "df_day_missed_sorted = df_nsa_missed.sort_values('Weekday')\n",
    "df_day_missed_weekday = df_day_missed_sorted.groupby('Weekday')['Weekday'].count().sort_values(ascending=False)\n",
    "df_day_missed_weekday"
   ]
  },
  {
   "cell_type": "code",
   "execution_count": 25,
   "metadata": {},
   "outputs": [
    {
     "data": {
      "text/plain": [
       "Weekday\n",
       "Wednesday    20774\n",
       "Tuesday      20488\n",
       "Monday       18025\n",
       "Friday       14982\n",
       "Thursday     13909\n",
       "Saturday        30\n",
       "Name: Weekday, dtype: int64"
      ]
     },
     "execution_count": 25,
     "metadata": {},
     "output_type": "execute_result"
    }
   ],
   "source": [
    "df_day_attended_sorted = df_nsa_attended.sort_values('Weekday')\n",
    "df_day_attended_weekday = df_day_attended_sorted.groupby('Weekday')['Weekday'].count().sort_values(ascending=False)\n",
    "df_day_attended_weekday"
   ]
  },
  {
   "cell_type": "markdown",
   "metadata": {},
   "source": [
    "#### <span style=\"color:grey\"> Visualizing our Findings</span>"
   ]
  },
  {
   "cell_type": "markdown",
   "metadata": {},
   "source": [
    "> <span style=\"color:grey\"> Now that we've organized all of our data, we will be using bar and pie charts to visualize it </span>\n",
    "***\n",
    "> <span style=\"color:grey\"> The bar chart titled <em>Missed Appointments by Weekday</em> is comparing the Total number of missed appointments by weekday.</span>"
   ]
  },
  {
   "cell_type": "code",
   "execution_count": 26,
   "metadata": {
    "scrolled": false
   },
   "outputs": [
    {
     "data": {
      "image/png": "[encoded data removed]",
      "text/plain": [
       "<Figure size 600x600 with 1 Axes>"
      ]
     },
     "metadata": {},
     "output_type": "display_data"
    }
   ],
   "source": [
    "bar_m = df_day_missed_weekday.reindex([\"Monday\", \"Tuesday\", \"Wednesday\", 'Thursday', 'Friday', 'Saturday']).plot(kind=\"bar\", figsize=(6, 6))\n",
    "plt.title(\"Missed Appointments by Weekday\")\n",
    "plt.ylabel(\"Number of Appointments\")\n",
    "plt.xlabel(\"Weekday of Scheduled Appointment\")\n",
    "plt.xticks(rotation=30, horizontalalignment=\"center\")\n",
    "for container in bar_m.containers:\n",
    "    bar_m.bar_label(container)\n",
    "plt.show()"
   ]
  },
  {
   "cell_type": "markdown",
   "metadata": {},
   "source": [
    "> <span style=\"color:grey\"> As shown above, by numbers, Tuesday and Wednesday have the highest amount of missed appointments, both over 5000 each. </span>\n",
    "***\n",
    "> <span style=\"color:grey\"> The bar chart titled <em>Attended Appointments by Weekday</em> is comparing the Total number of attended appointments by weekday.</span>"
   ]
  },
  {
   "cell_type": "code",
   "execution_count": 27,
   "metadata": {
    "scrolled": false
   },
   "outputs": [
    {
     "data": {
      "image/png": "[encoded data removed]",
      "text/plain": [
       "<Figure size 600x600 with 1 Axes>"
      ]
     },
     "metadata": {},
     "output_type": "display_data"
    }
   ],
   "source": [
    "bar_a = df_day_attended_weekday.reindex([\"Monday\", \"Tuesday\", \"Wednesday\", 'Thursday', 'Friday', 'Saturday']).plot(kind=\"bar\", color = 'orange', figsize=(6, 6))\n",
    "plt.title(\"Attended Appointments by Weekday\")\n",
    "plt.ylabel(\"Number of Appointments\")\n",
    "plt.xlabel(\"Weekday of Scheduled Appointment\")\n",
    "plt.xticks(rotation=30, horizontalalignment=\"center\")\n",
    "for container in bar_a.containers:\n",
    "    bar_a.bar_label(container)\n",
    "plt.show()"
   ]
  },
  {
   "cell_type": "markdown",
   "metadata": {},
   "source": [
    "> <span style=\"color:grey\"> By numbers, most appointments are scheduled on Tuesday and Wednesday. </span>\n",
    "***\n",
    "> <span style=\"color:grey\"> The Pie chart titled <em>Percent of All Appointment by Day</em> is looking at the percent to total of all booked appointments by day </span>"
   ]
  },
  {
   "cell_type": "code",
   "execution_count": 28,
   "metadata": {
    "scrolled": false
   },
   "outputs": [
    {
     "data": {
      "image/png": "[encoded data removed]",
      "text/plain": [
       "<Figure size 800x800 with 1 Axes>"
      ]
     },
     "metadata": {},
     "output_type": "display_data"
    }
   ],
   "source": [
    "df_day_total_combined.reindex([\"Monday\", \"Tuesday\", \"Wednesday\", 'Thursday', 'Friday', 'Saturday']).plot.pie(subplots=True,autopct='%1.2f%%', figsize=(8, 8))\n",
    "plt.title('Percent of All Appointment by Day')\n",
    "plt.legend(loc = 'upper right')\n",
    "plt.show()"
   ]
  },
  {
   "cell_type": "markdown",
   "metadata": {},
   "source": [
    "> <span style=\"color:grey\"> Like the previous bar chart, this pie chart shows that most appointments are scheduled on Tuesday and Wednesday, accounting for almost half of all appointments in a given week. </span>\n",
    "\n",
    "***\n",
    "> <span style=\"color:grey\"> The bar chart titled <em>Percentage of Missed Appointments by Day</em> is comparing the percentage of missed appointments by weekday.</span>\n"
   ]
  },
  {
   "cell_type": "code",
   "execution_count": 29,
   "metadata": {
    "scrolled": false
   },
   "outputs": [
    {
     "data": {
      "image/png": "[encoded data removed]",
      "text/plain": [
       "<Figure size 600x600 with 1 Axes>"
      ]
     },
     "metadata": {},
     "output_type": "display_data"
    }
   ],
   "source": [
    "bar_m = df_day_total.plot.bar(x='Weekday', y='MissedPercent',figsize=(6, 6))\n",
    "plt.title(\"Percentage of Missed Appointments by Day\")\n",
    "plt.ylabel(\"Percent to Day\")\n",
    "plt.xlabel(\"Weekday of Scheduled Appointment\")\n",
    "plt.xticks(rotation=30, horizontalalignment=\"center\")\n",
    "for container in bar_m.containers:\n",
    "    bar_m.bar_label(container)\n",
    "plt.show()"
   ]
  },
  {
   "cell_type": "markdown",
   "metadata": {},
   "source": [
    "> <span style=\"color:grey\"> As shown above, the day with the highest percentage of missed appointments to total scheduled appointments is Saturday at 23.1% </span>"
   ]
  },
  {
   "cell_type": "markdown",
   "metadata": {},
   "source": [
    "<a id='conclusions'></a>\n",
    "## <span style=\"color:CadetBlue \"> Conclusions</span>\n",
    "**<span style=\"color:grey\"> Are Men or Women more likely to attend their scheduled appointment?</span>**\n",
    "***\n",
    "<span style=\"color:grey\"> Although Women appear more likely to seek medical attention, the attendance rate between Men and Women with scheduled appointments is almost identical. We observed less than a 1% variance between the groups</span>\n",
    "***\n",
    "**<span style=\"color:grey\"> Which day of the week is a scheduled appointment most likely to be missed?</span>**\n",
    "***\n",
    " <span style=\"color:grey\"> Based on the percentage of missed appointments compared to total appointments in a given day, Saturday and Fridays are the most likely day for someone to miss their appointment.</span>\n"
   ]
  },
  {
   "cell_type": "markdown",
   "metadata": {
    "scrolled": false
   },
   "source": [
    "**<span style=\"color:grey\"> Limitations of the dataset</span>**\n",
    "***\n",
    " <span style=\"color:grey\">While analyzing the occurrence of a specific gender missing an appointment or which day is most likely for an appointment to be missed, this data set does not contain enough information to fully dig into why appointments are being missed in the first place. While we have ample records to analyze, this data set does not contain socioeconomic information such as employment status, transportation method, or home location that would have been interesting to dig into. These additional pieces of information could have helped better answer why certain appointments are missed.\n",
    "    \n",
    "We could make an unfounded assumption that the reason why Saturdays and Fridays are the most common days to miss an appointment is because of weekend plans but it is very likely that with additional socioeconomic data we could find a more compelling answer. With additional data, we may see that distance to the hospital is a limiting factor or that the patient has to rely on public transportation which could be unreliable.\n",
    "</span>"
   ]
  },
  {
   "cell_type": "code",
   "execution_count": null,
   "metadata": {},
   "outputs": [],
   "source": []
  }
 ],
 "metadata": {
  "kernelspec": {
   "display_name": "Python 3 (ipykernel)",
   "language": "python",
   "name": "python3"
  },
  "language_info": {
   "codemirror_mode": {
    "name": "ipython",
    "version": 3
   },
   "file_extension": ".py",
   "mimetype": "text/x-python",
   "name": "python",
   "nbconvert_exporter": "python",
   "pygments_lexer": "ipython3",
   "version": "3.10.9"
  }
 },
 "nbformat": 4,
 "nbformat_minor": 4
}
